{
 "cells": [
  {
   "cell_type": "code",
   "execution_count": 1,
   "id": "91e7147d",
   "metadata": {
    "_cell_guid": "b1076dfc-b9ad-4769-8c92-a6c4dae69d19",
    "_uuid": "8f2839f25d086af736a60e9eeb907d3b93b6e0e5",
    "execution": {
     "iopub.execute_input": "2023-02-22T14:31:32.273012Z",
     "iopub.status.busy": "2023-02-22T14:31:32.272500Z",
     "iopub.status.idle": "2023-02-22T14:31:32.286711Z",
     "shell.execute_reply": "2023-02-22T14:31:32.285025Z"
    },
    "papermill": {
     "duration": 0.035558,
     "end_time": "2023-02-22T14:31:32.289239",
     "exception": false,
     "start_time": "2023-02-22T14:31:32.253681",
     "status": "completed"
    },
    "tags": []
   },
   "outputs": [
    {
     "name": "stdout",
     "output_type": "stream",
     "text": [
      "/kaggle/input/titanic/train.csv\n",
      "/kaggle/input/titanic/test.csv\n",
      "/kaggle/input/titanic/gender_submission.csv\n"
     ]
    }
   ],
   "source": [
    "# This Python 3 environment comes with many helpful analytics libraries installed\n",
    "# It is defined by the kaggle/python Docker image: https://github.com/kaggle/docker-python\n",
    "# For example, here's several helpful packages to load\n",
    "\n",
    "import numpy as np # linear algebra\n",
    "import pandas as pd # data processing, CSV file I/O (e.g. pd.read_csv)\n",
    "\n",
    "# Input data files are available in the read-only \"../input/\" directory\n",
    "# For example, running this (by clicking run or pressing Shift+Enter) will list all files under the input directory\n",
    "\n",
    "import os\n",
    "for dirname, _, filenames in os.walk('/kaggle/input'):\n",
    "    for filename in filenames:\n",
    "        print(os.path.join(dirname, filename))\n",
    "\n",
    "# You can write up to 20GB to the current directory (/kaggle/working/) that gets preserved as output when you create a version using \"Save & Run All\" \n",
    "# You can also write temporary files to /kaggle/temp/, but they won't be saved outside of the current session"
   ]
  },
  {
   "cell_type": "markdown",
   "id": "dc335862",
   "metadata": {
    "papermill": {
     "duration": 0.014637,
     "end_time": "2023-02-22T14:31:32.320470",
     "exception": false,
     "start_time": "2023-02-22T14:31:32.305833",
     "status": "completed"
    },
    "tags": []
   },
   "source": [
    "### Importing Modules and Libraries"
   ]
  },
  {
   "cell_type": "code",
   "execution_count": 2,
   "id": "3c955bcf",
   "metadata": {
    "execution": {
     "iopub.execute_input": "2023-02-22T14:31:32.353717Z",
     "iopub.status.busy": "2023-02-22T14:31:32.352894Z",
     "iopub.status.idle": "2023-02-22T14:31:45.233779Z",
     "shell.execute_reply": "2023-02-22T14:31:45.232253Z"
    },
    "papermill": {
     "duration": 12.900321,
     "end_time": "2023-02-22T14:31:45.236674",
     "exception": false,
     "start_time": "2023-02-22T14:31:32.336353",
     "status": "completed"
    },
    "tags": []
   },
   "outputs": [
    {
     "name": "stdout",
     "output_type": "stream",
     "text": [
      "/bin/bash: /opt/conda/lib/libtinfo.so.6: no version information available (required by /bin/bash)\r\n",
      "Requirement already satisfied: seaborn in /opt/conda/lib/python3.7/site-packages (0.12.0)\r\n",
      "Requirement already satisfied: pandas>=0.25 in /opt/conda/lib/python3.7/site-packages (from seaborn) (1.3.5)\r\n",
      "Requirement already satisfied: typing_extensions in /opt/conda/lib/python3.7/site-packages (from seaborn) (4.1.1)\r\n",
      "Requirement already satisfied: numpy>=1.17 in /opt/conda/lib/python3.7/site-packages (from seaborn) (1.21.6)\r\n",
      "Requirement already satisfied: matplotlib>=3.1 in /opt/conda/lib/python3.7/site-packages (from seaborn) (3.5.3)\r\n",
      "Requirement already satisfied: pyparsing>=2.2.1 in /opt/conda/lib/python3.7/site-packages (from matplotlib>=3.1->seaborn) (3.0.9)\r\n",
      "Requirement already satisfied: cycler>=0.10 in /opt/conda/lib/python3.7/site-packages (from matplotlib>=3.1->seaborn) (0.11.0)\r\n",
      "Requirement already satisfied: kiwisolver>=1.0.1 in /opt/conda/lib/python3.7/site-packages (from matplotlib>=3.1->seaborn) (1.4.4)\r\n",
      "Requirement already satisfied: packaging>=20.0 in /opt/conda/lib/python3.7/site-packages (from matplotlib>=3.1->seaborn) (23.0)\r\n",
      "Requirement already satisfied: fonttools>=4.22.0 in /opt/conda/lib/python3.7/site-packages (from matplotlib>=3.1->seaborn) (4.37.1)\r\n",
      "Requirement already satisfied: python-dateutil>=2.7 in /opt/conda/lib/python3.7/site-packages (from matplotlib>=3.1->seaborn) (2.8.2)\r\n",
      "Requirement already satisfied: pillow>=6.2.0 in /opt/conda/lib/python3.7/site-packages (from matplotlib>=3.1->seaborn) (9.2.0)\r\n",
      "Requirement already satisfied: pytz>=2017.3 in /opt/conda/lib/python3.7/site-packages (from pandas>=0.25->seaborn) (2022.2.1)\r\n",
      "Requirement already satisfied: six>=1.5 in /opt/conda/lib/python3.7/site-packages (from python-dateutil>=2.7->matplotlib>=3.1->seaborn) (1.16.0)\r\n",
      "\u001b[33mWARNING: Running pip as the 'root' user can result in broken permissions and conflicting behaviour with the system package manager. It is recommended to use a virtual environment instead: https://pip.pypa.io/warnings/venv\u001b[0m\u001b[33m\r\n",
      "\u001b[0m"
     ]
    }
   ],
   "source": [
    "! pip install seaborn"
   ]
  },
  {
   "cell_type": "code",
   "execution_count": 3,
   "id": "56365bbf",
   "metadata": {
    "execution": {
     "iopub.execute_input": "2023-02-22T14:31:45.270408Z",
     "iopub.status.busy": "2023-02-22T14:31:45.269917Z",
     "iopub.status.idle": "2023-02-22T14:31:46.281658Z",
     "shell.execute_reply": "2023-02-22T14:31:46.280621Z"
    },
    "papermill": {
     "duration": 1.03196,
     "end_time": "2023-02-22T14:31:46.284226",
     "exception": false,
     "start_time": "2023-02-22T14:31:45.252266",
     "status": "completed"
    },
    "tags": []
   },
   "outputs": [],
   "source": [
    "import pandas as pd\n",
    "import numpy as np\n",
    "import matplotlib.pyplot as plt\n",
    "import seaborn as sns"
   ]
  },
  {
   "cell_type": "code",
   "execution_count": 4,
   "id": "e88dbfcf",
   "metadata": {
    "execution": {
     "iopub.execute_input": "2023-02-22T14:31:46.317374Z",
     "iopub.status.busy": "2023-02-22T14:31:46.316914Z",
     "iopub.status.idle": "2023-02-22T14:31:46.701340Z",
     "shell.execute_reply": "2023-02-22T14:31:46.700281Z"
    },
    "papermill": {
     "duration": 0.404928,
     "end_time": "2023-02-22T14:31:46.704550",
     "exception": false,
     "start_time": "2023-02-22T14:31:46.299622",
     "status": "completed"
    },
    "tags": []
   },
   "outputs": [],
   "source": [
    "from sklearn.ensemble import RandomForestClassifier\n",
    "from sklearn.tree import DecisionTreeClassifier\n",
    "from sklearn.svm import SVC\n",
    "from sklearn.linear_model import LogisticRegression\n",
    "from sklearn.model_selection import train_test_split"
   ]
  },
  {
   "cell_type": "code",
   "execution_count": 5,
   "id": "e39c4a67",
   "metadata": {
    "execution": {
     "iopub.execute_input": "2023-02-22T14:31:46.736703Z",
     "iopub.status.busy": "2023-02-22T14:31:46.736316Z",
     "iopub.status.idle": "2023-02-22T14:31:46.741245Z",
     "shell.execute_reply": "2023-02-22T14:31:46.740005Z"
    },
    "papermill": {
     "duration": 0.02373,
     "end_time": "2023-02-22T14:31:46.743530",
     "exception": false,
     "start_time": "2023-02-22T14:31:46.719800",
     "status": "completed"
    },
    "tags": []
   },
   "outputs": [],
   "source": [
    "from sklearn.metrics import accuracy_score\n",
    "from sklearn.preprocessing import StandardScaler"
   ]
  },
  {
   "cell_type": "code",
   "execution_count": 6,
   "id": "4dbbd4d3",
   "metadata": {
    "execution": {
     "iopub.execute_input": "2023-02-22T14:31:46.775868Z",
     "iopub.status.busy": "2023-02-22T14:31:46.775464Z",
     "iopub.status.idle": "2023-02-22T14:31:46.819153Z",
     "shell.execute_reply": "2023-02-22T14:31:46.817859Z"
    },
    "papermill": {
     "duration": 0.06319,
     "end_time": "2023-02-22T14:31:46.821947",
     "exception": false,
     "start_time": "2023-02-22T14:31:46.758757",
     "status": "completed"
    },
    "tags": []
   },
   "outputs": [],
   "source": [
    "train_data = pd.read_csv('/kaggle/input/titanic/train.csv')\n",
    "test_data = pd.read_csv('/kaggle/input/titanic/test.csv')\n",
    "gender = pd.read_csv('/kaggle/input/titanic/gender_submission.csv')"
   ]
  },
  {
   "cell_type": "code",
   "execution_count": 7,
   "id": "be9fce47",
   "metadata": {
    "execution": {
     "iopub.execute_input": "2023-02-22T14:31:46.854802Z",
     "iopub.status.busy": "2023-02-22T14:31:46.854424Z",
     "iopub.status.idle": "2023-02-22T14:31:46.878379Z",
     "shell.execute_reply": "2023-02-22T14:31:46.877134Z"
    },
    "papermill": {
     "duration": 0.043502,
     "end_time": "2023-02-22T14:31:46.880874",
     "exception": false,
     "start_time": "2023-02-22T14:31:46.837372",
     "status": "completed"
    },
    "tags": []
   },
   "outputs": [
    {
     "data": {
      "text/html": [
       "<div>\n",
       "<style scoped>\n",
       "    .dataframe tbody tr th:only-of-type {\n",
       "        vertical-align: middle;\n",
       "    }\n",
       "\n",
       "    .dataframe tbody tr th {\n",
       "        vertical-align: top;\n",
       "    }\n",
       "\n",
       "    .dataframe thead th {\n",
       "        text-align: right;\n",
       "    }\n",
       "</style>\n",
       "<table border=\"1\" class=\"dataframe\">\n",
       "  <thead>\n",
       "    <tr style=\"text-align: right;\">\n",
       "      <th></th>\n",
       "      <th>PassengerId</th>\n",
       "      <th>Survived</th>\n",
       "      <th>Pclass</th>\n",
       "      <th>Name</th>\n",
       "      <th>Sex</th>\n",
       "      <th>Age</th>\n",
       "      <th>SibSp</th>\n",
       "      <th>Parch</th>\n",
       "      <th>Ticket</th>\n",
       "      <th>Fare</th>\n",
       "      <th>Cabin</th>\n",
       "      <th>Embarked</th>\n",
       "    </tr>\n",
       "  </thead>\n",
       "  <tbody>\n",
       "    <tr>\n",
       "      <th>0</th>\n",
       "      <td>1</td>\n",
       "      <td>0</td>\n",
       "      <td>3</td>\n",
       "      <td>Braund, Mr. Owen Harris</td>\n",
       "      <td>male</td>\n",
       "      <td>22.0</td>\n",
       "      <td>1</td>\n",
       "      <td>0</td>\n",
       "      <td>A/5 21171</td>\n",
       "      <td>7.2500</td>\n",
       "      <td>NaN</td>\n",
       "      <td>S</td>\n",
       "    </tr>\n",
       "    <tr>\n",
       "      <th>1</th>\n",
       "      <td>2</td>\n",
       "      <td>1</td>\n",
       "      <td>1</td>\n",
       "      <td>Cumings, Mrs. John Bradley (Florence Briggs Th...</td>\n",
       "      <td>female</td>\n",
       "      <td>38.0</td>\n",
       "      <td>1</td>\n",
       "      <td>0</td>\n",
       "      <td>PC 17599</td>\n",
       "      <td>71.2833</td>\n",
       "      <td>C85</td>\n",
       "      <td>C</td>\n",
       "    </tr>\n",
       "    <tr>\n",
       "      <th>2</th>\n",
       "      <td>3</td>\n",
       "      <td>1</td>\n",
       "      <td>3</td>\n",
       "      <td>Heikkinen, Miss. Laina</td>\n",
       "      <td>female</td>\n",
       "      <td>26.0</td>\n",
       "      <td>0</td>\n",
       "      <td>0</td>\n",
       "      <td>STON/O2. 3101282</td>\n",
       "      <td>7.9250</td>\n",
       "      <td>NaN</td>\n",
       "      <td>S</td>\n",
       "    </tr>\n",
       "  </tbody>\n",
       "</table>\n",
       "</div>"
      ],
      "text/plain": [
       "   PassengerId  Survived  Pclass  \\\n",
       "0            1         0       3   \n",
       "1            2         1       1   \n",
       "2            3         1       3   \n",
       "\n",
       "                                                Name     Sex   Age  SibSp  \\\n",
       "0                            Braund, Mr. Owen Harris    male  22.0      1   \n",
       "1  Cumings, Mrs. John Bradley (Florence Briggs Th...  female  38.0      1   \n",
       "2                             Heikkinen, Miss. Laina  female  26.0      0   \n",
       "\n",
       "   Parch            Ticket     Fare Cabin Embarked  \n",
       "0      0         A/5 21171   7.2500   NaN        S  \n",
       "1      0          PC 17599  71.2833   C85        C  \n",
       "2      0  STON/O2. 3101282   7.9250   NaN        S  "
      ]
     },
     "execution_count": 7,
     "metadata": {},
     "output_type": "execute_result"
    }
   ],
   "source": [
    "train_data.head(3)"
   ]
  },
  {
   "cell_type": "code",
   "execution_count": 8,
   "id": "5d8ee62a",
   "metadata": {
    "execution": {
     "iopub.execute_input": "2023-02-22T14:31:46.914546Z",
     "iopub.status.busy": "2023-02-22T14:31:46.914141Z",
     "iopub.status.idle": "2023-02-22T14:31:46.924228Z",
     "shell.execute_reply": "2023-02-22T14:31:46.923082Z"
    },
    "papermill": {
     "duration": 0.029999,
     "end_time": "2023-02-22T14:31:46.926535",
     "exception": false,
     "start_time": "2023-02-22T14:31:46.896536",
     "status": "completed"
    },
    "tags": []
   },
   "outputs": [
    {
     "data": {
      "text/plain": [
       "PassengerId      0\n",
       "Survived         0\n",
       "Pclass           0\n",
       "Name             0\n",
       "Sex              0\n",
       "Age            177\n",
       "SibSp            0\n",
       "Parch            0\n",
       "Ticket           0\n",
       "Fare             0\n",
       "Cabin          687\n",
       "Embarked         2\n",
       "dtype: int64"
      ]
     },
     "execution_count": 8,
     "metadata": {},
     "output_type": "execute_result"
    }
   ],
   "source": [
    "train_data.isnull().sum()"
   ]
  },
  {
   "cell_type": "code",
   "execution_count": 9,
   "id": "0f2b7048",
   "metadata": {
    "execution": {
     "iopub.execute_input": "2023-02-22T14:31:46.959404Z",
     "iopub.status.busy": "2023-02-22T14:31:46.958970Z",
     "iopub.status.idle": "2023-02-22T14:31:46.965786Z",
     "shell.execute_reply": "2023-02-22T14:31:46.964682Z"
    },
    "papermill": {
     "duration": 0.026359,
     "end_time": "2023-02-22T14:31:46.968437",
     "exception": false,
     "start_time": "2023-02-22T14:31:46.942078",
     "status": "completed"
    },
    "tags": []
   },
   "outputs": [
    {
     "data": {
      "text/plain": [
       "891"
      ]
     },
     "execution_count": 9,
     "metadata": {},
     "output_type": "execute_result"
    }
   ],
   "source": [
    "len(train_data)"
   ]
  },
  {
   "cell_type": "markdown",
   "id": "262ae1b3",
   "metadata": {
    "papermill": {
     "duration": 0.015434,
     "end_time": "2023-02-22T14:31:46.999635",
     "exception": false,
     "start_time": "2023-02-22T14:31:46.984201",
     "status": "completed"
    },
    "tags": []
   },
   "source": [
    "### Train Data"
   ]
  },
  {
   "cell_type": "code",
   "execution_count": 10,
   "id": "1c943ac4",
   "metadata": {
    "execution": {
     "iopub.execute_input": "2023-02-22T14:31:47.033212Z",
     "iopub.status.busy": "2023-02-22T14:31:47.032478Z",
     "iopub.status.idle": "2023-02-22T14:31:54.457110Z",
     "shell.execute_reply": "2023-02-22T14:31:54.456078Z"
    },
    "papermill": {
     "duration": 7.4469,
     "end_time": "2023-02-22T14:31:54.462621",
     "exception": false,
     "start_time": "2023-02-22T14:31:47.015721",
     "status": "completed"
    },
    "tags": []
   },
   "outputs": [
    {
     "data": {
      "text/plain": [
       "<seaborn.axisgrid.PairGrid at 0x7f7e02ba5e10>"
      ]
     },
     "execution_count": 10,
     "metadata": {},
     "output_type": "execute_result"
    },
    {
     "data": {
      "image/png": "[encoded data removed]",
      "text/plain": [
       "<Figure size 1500x1500 with 42 Axes>"
      ]
     },
     "metadata": {},
     "output_type": "display_data"
    }
   ],
   "source": [
    "sns.pairplot(train_data.drop(columns='PassengerId'))"
   ]
  },
  {
   "cell_type": "markdown",
   "id": "9cfbd806",
   "metadata": {
    "papermill": {
     "duration": 0.018346,
     "end_time": "2023-02-22T14:31:54.499729",
     "exception": false,
     "start_time": "2023-02-22T14:31:54.481383",
     "status": "completed"
    },
    "tags": []
   },
   "source": [
    "### Test Data"
   ]
  },
  {
   "cell_type": "code",
   "execution_count": 11,
   "id": "649e3f8d",
   "metadata": {
    "execution": {
     "iopub.execute_input": "2023-02-22T14:31:54.539029Z",
     "iopub.status.busy": "2023-02-22T14:31:54.538614Z",
     "iopub.status.idle": "2023-02-22T14:31:59.795414Z",
     "shell.execute_reply": "2023-02-22T14:31:59.794173Z"
    },
    "papermill": {
     "duration": 5.2809,
     "end_time": "2023-02-22T14:31:59.799278",
     "exception": false,
     "start_time": "2023-02-22T14:31:54.518378",
     "status": "completed"
    },
    "tags": []
   },
   "outputs": [
    {
     "data": {
      "text/plain": [
       "<seaborn.axisgrid.PairGrid at 0x7f7e00e4f2d0>"
      ]
     },
     "execution_count": 11,
     "metadata": {},
     "output_type": "execute_result"
    },
    {
     "data": {
      "image/png": "[encoded data removed]",
      "text/plain": [
       "<Figure size 1250x1250 with 30 Axes>"
      ]
     },
     "metadata": {},
     "output_type": "display_data"
    }
   ],
   "source": [
    "sns.pairplot(test_data.drop(columns=['PassengerId']))"
   ]
  },
  {
   "cell_type": "code",
   "execution_count": 12,
   "id": "5868c81b",
   "metadata": {
    "execution": {
     "iopub.execute_input": "2023-02-22T14:31:59.844307Z",
     "iopub.status.busy": "2023-02-22T14:31:59.843892Z",
     "iopub.status.idle": "2023-02-22T14:31:59.851924Z",
     "shell.execute_reply": "2023-02-22T14:31:59.850810Z"
    },
    "papermill": {
     "duration": 0.033885,
     "end_time": "2023-02-22T14:31:59.854372",
     "exception": false,
     "start_time": "2023-02-22T14:31:59.820487",
     "status": "completed"
    },
    "tags": []
   },
   "outputs": [
    {
     "data": {
      "text/plain": [
       "array([nan, 'C85', 'C123', 'E46', 'G6', 'C103', 'D56', 'A6',\n",
       "       'C23 C25 C27', 'B78', 'D33', 'B30', 'C52', 'B28', 'C83', 'F33',\n",
       "       'F G73', 'E31', 'A5', 'D10 D12', 'D26', 'C110', 'B58 B60', 'E101',\n",
       "       'F E69', 'D47', 'B86', 'F2', 'C2', 'E33', 'B19', 'A7', 'C49', 'F4',\n",
       "       'A32', 'B4', 'B80', 'A31', 'D36', 'D15', 'C93', 'C78', 'D35',\n",
       "       'C87', 'B77', 'E67', 'B94', 'C125', 'C99', 'C118', 'D7', 'A19',\n",
       "       'B49', 'D', 'C22 C26', 'C106', 'C65', 'E36', 'C54',\n",
       "       'B57 B59 B63 B66', 'C7', 'E34', 'C32', 'B18', 'C124', 'C91', 'E40',\n",
       "       'T', 'C128', 'D37', 'B35', 'E50', 'C82', 'B96 B98', 'E10', 'E44',\n",
       "       'A34', 'C104', 'C111', 'C92', 'E38', 'D21', 'E12', 'E63', 'A14',\n",
       "       'B37', 'C30', 'D20', 'B79', 'E25', 'D46', 'B73', 'C95', 'B38',\n",
       "       'B39', 'B22', 'C86', 'C70', 'A16', 'C101', 'C68', 'A10', 'E68',\n",
       "       'B41', 'A20', 'D19', 'D50', 'D9', 'A23', 'B50', 'A26', 'D48',\n",
       "       'E58', 'C126', 'B71', 'B51 B53 B55', 'D49', 'B5', 'B20', 'F G63',\n",
       "       'C62 C64', 'E24', 'C90', 'C45', 'E8', 'B101', 'D45', 'C46', 'D30',\n",
       "       'E121', 'D11', 'E77', 'F38', 'B3', 'D6', 'B82 B84', 'D17', 'A36',\n",
       "       'B102', 'B69', 'E49', 'C47', 'D28', 'E17', 'A24', 'C50', 'B42',\n",
       "       'C148'], dtype=object)"
      ]
     },
     "execution_count": 12,
     "metadata": {},
     "output_type": "execute_result"
    }
   ],
   "source": [
    "train_data.Cabin.unique()"
   ]
  },
  {
   "cell_type": "code",
   "execution_count": 13,
   "id": "70b028a0",
   "metadata": {
    "execution": {
     "iopub.execute_input": "2023-02-22T14:31:59.898828Z",
     "iopub.status.busy": "2023-02-22T14:31:59.898432Z",
     "iopub.status.idle": "2023-02-22T14:31:59.906503Z",
     "shell.execute_reply": "2023-02-22T14:31:59.905415Z"
    },
    "papermill": {
     "duration": 0.033376,
     "end_time": "2023-02-22T14:31:59.908929",
     "exception": false,
     "start_time": "2023-02-22T14:31:59.875553",
     "status": "completed"
    },
    "tags": []
   },
   "outputs": [
    {
     "data": {
      "text/plain": [
       "array([22.  , 38.  , 26.  , 35.  ,   nan, 54.  ,  2.  , 27.  , 14.  ,\n",
       "        4.  , 58.  , 20.  , 39.  , 55.  , 31.  , 34.  , 15.  , 28.  ,\n",
       "        8.  , 19.  , 40.  , 66.  , 42.  , 21.  , 18.  ,  3.  ,  7.  ,\n",
       "       49.  , 29.  , 65.  , 28.5 ,  5.  , 11.  , 45.  , 17.  , 32.  ,\n",
       "       16.  , 25.  ,  0.83, 30.  , 33.  , 23.  , 24.  , 46.  , 59.  ,\n",
       "       71.  , 37.  , 47.  , 14.5 , 70.5 , 32.5 , 12.  ,  9.  , 36.5 ,\n",
       "       51.  , 55.5 , 40.5 , 44.  ,  1.  , 61.  , 56.  , 50.  , 36.  ,\n",
       "       45.5 , 20.5 , 62.  , 41.  , 52.  , 63.  , 23.5 ,  0.92, 43.  ,\n",
       "       60.  , 10.  , 64.  , 13.  , 48.  ,  0.75, 53.  , 57.  , 80.  ,\n",
       "       70.  , 24.5 ,  6.  ,  0.67, 30.5 ,  0.42, 34.5 , 74.  ])"
      ]
     },
     "execution_count": 13,
     "metadata": {},
     "output_type": "execute_result"
    }
   ],
   "source": [
    "train_data.Age.unique()"
   ]
  },
  {
   "cell_type": "code",
   "execution_count": 14,
   "id": "aad8b4d6",
   "metadata": {
    "execution": {
     "iopub.execute_input": "2023-02-22T14:31:59.953778Z",
     "iopub.status.busy": "2023-02-22T14:31:59.953365Z",
     "iopub.status.idle": "2023-02-22T14:31:59.961137Z",
     "shell.execute_reply": "2023-02-22T14:31:59.959881Z"
    },
    "papermill": {
     "duration": 0.033178,
     "end_time": "2023-02-22T14:31:59.963646",
     "exception": false,
     "start_time": "2023-02-22T14:31:59.930468",
     "status": "completed"
    },
    "tags": []
   },
   "outputs": [
    {
     "data": {
      "text/plain": [
       "array(['S', 'C', 'Q', nan], dtype=object)"
      ]
     },
     "execution_count": 14,
     "metadata": {},
     "output_type": "execute_result"
    }
   ],
   "source": [
    "train_data.Embarked.unique()"
   ]
  },
  {
   "cell_type": "code",
   "execution_count": 15,
   "id": "7cc054ba",
   "metadata": {
    "execution": {
     "iopub.execute_input": "2023-02-22T14:32:00.008313Z",
     "iopub.status.busy": "2023-02-22T14:32:00.007310Z",
     "iopub.status.idle": "2023-02-22T14:32:00.016362Z",
     "shell.execute_reply": "2023-02-22T14:32:00.015285Z"
    },
    "papermill": {
     "duration": 0.033697,
     "end_time": "2023-02-22T14:32:00.018462",
     "exception": false,
     "start_time": "2023-02-22T14:31:59.984765",
     "status": "completed"
    },
    "tags": []
   },
   "outputs": [
    {
     "data": {
      "text/plain": [
       "array([0, 1, 2, 5, 3, 4, 6])"
      ]
     },
     "execution_count": 15,
     "metadata": {},
     "output_type": "execute_result"
    }
   ],
   "source": [
    "train_data.Parch.unique()"
   ]
  },
  {
   "cell_type": "code",
   "execution_count": 16,
   "id": "f85039cf",
   "metadata": {
    "execution": {
     "iopub.execute_input": "2023-02-22T14:32:00.062549Z",
     "iopub.status.busy": "2023-02-22T14:32:00.062161Z",
     "iopub.status.idle": "2023-02-22T14:32:00.068400Z",
     "shell.execute_reply": "2023-02-22T14:32:00.067102Z"
    },
    "papermill": {
     "duration": 0.03095,
     "end_time": "2023-02-22T14:32:00.070656",
     "exception": false,
     "start_time": "2023-02-22T14:32:00.039706",
     "status": "completed"
    },
    "tags": []
   },
   "outputs": [],
   "source": [
    "train_data = train_data.drop(columns=['Name','Fare','Cabin','Embarked','Ticket','Cabin'])"
   ]
  },
  {
   "cell_type": "code",
   "execution_count": 17,
   "id": "ec44a755",
   "metadata": {
    "execution": {
     "iopub.execute_input": "2023-02-22T14:32:00.115162Z",
     "iopub.status.busy": "2023-02-22T14:32:00.114671Z",
     "iopub.status.idle": "2023-02-22T14:32:00.127930Z",
     "shell.execute_reply": "2023-02-22T14:32:00.126810Z"
    },
    "papermill": {
     "duration": 0.038347,
     "end_time": "2023-02-22T14:32:00.130301",
     "exception": false,
     "start_time": "2023-02-22T14:32:00.091954",
     "status": "completed"
    },
    "tags": []
   },
   "outputs": [
    {
     "data": {
      "text/html": [
       "<div>\n",
       "<style scoped>\n",
       "    .dataframe tbody tr th:only-of-type {\n",
       "        vertical-align: middle;\n",
       "    }\n",
       "\n",
       "    .dataframe tbody tr th {\n",
       "        vertical-align: top;\n",
       "    }\n",
       "\n",
       "    .dataframe thead th {\n",
       "        text-align: right;\n",
       "    }\n",
       "</style>\n",
       "<table border=\"1\" class=\"dataframe\">\n",
       "  <thead>\n",
       "    <tr style=\"text-align: right;\">\n",
       "      <th></th>\n",
       "      <th>PassengerId</th>\n",
       "      <th>Survived</th>\n",
       "      <th>Pclass</th>\n",
       "      <th>Sex</th>\n",
       "      <th>Age</th>\n",
       "      <th>SibSp</th>\n",
       "      <th>Parch</th>\n",
       "    </tr>\n",
       "  </thead>\n",
       "  <tbody>\n",
       "    <tr>\n",
       "      <th>0</th>\n",
       "      <td>1</td>\n",
       "      <td>0</td>\n",
       "      <td>3</td>\n",
       "      <td>male</td>\n",
       "      <td>22.0</td>\n",
       "      <td>1</td>\n",
       "      <td>0</td>\n",
       "    </tr>\n",
       "    <tr>\n",
       "      <th>1</th>\n",
       "      <td>2</td>\n",
       "      <td>1</td>\n",
       "      <td>1</td>\n",
       "      <td>female</td>\n",
       "      <td>38.0</td>\n",
       "      <td>1</td>\n",
       "      <td>0</td>\n",
       "    </tr>\n",
       "    <tr>\n",
       "      <th>2</th>\n",
       "      <td>3</td>\n",
       "      <td>1</td>\n",
       "      <td>3</td>\n",
       "      <td>female</td>\n",
       "      <td>26.0</td>\n",
       "      <td>0</td>\n",
       "      <td>0</td>\n",
       "    </tr>\n",
       "    <tr>\n",
       "      <th>3</th>\n",
       "      <td>4</td>\n",
       "      <td>1</td>\n",
       "      <td>1</td>\n",
       "      <td>female</td>\n",
       "      <td>35.0</td>\n",
       "      <td>1</td>\n",
       "      <td>0</td>\n",
       "    </tr>\n",
       "    <tr>\n",
       "      <th>4</th>\n",
       "      <td>5</td>\n",
       "      <td>0</td>\n",
       "      <td>3</td>\n",
       "      <td>male</td>\n",
       "      <td>35.0</td>\n",
       "      <td>0</td>\n",
       "      <td>0</td>\n",
       "    </tr>\n",
       "  </tbody>\n",
       "</table>\n",
       "</div>"
      ],
      "text/plain": [
       "   PassengerId  Survived  Pclass     Sex   Age  SibSp  Parch\n",
       "0            1         0       3    male  22.0      1      0\n",
       "1            2         1       1  female  38.0      1      0\n",
       "2            3         1       3  female  26.0      0      0\n",
       "3            4         1       1  female  35.0      1      0\n",
       "4            5         0       3    male  35.0      0      0"
      ]
     },
     "execution_count": 17,
     "metadata": {},
     "output_type": "execute_result"
    }
   ],
   "source": [
    "train_data.head()"
   ]
  },
  {
   "cell_type": "code",
   "execution_count": 18,
   "id": "7a6c1b7b",
   "metadata": {
    "execution": {
     "iopub.execute_input": "2023-02-22T14:32:00.174848Z",
     "iopub.status.busy": "2023-02-22T14:32:00.174416Z",
     "iopub.status.idle": "2023-02-22T14:32:00.180793Z",
     "shell.execute_reply": "2023-02-22T14:32:00.180017Z"
    },
    "papermill": {
     "duration": 0.031313,
     "end_time": "2023-02-22T14:32:00.183038",
     "exception": false,
     "start_time": "2023-02-22T14:32:00.151725",
     "status": "completed"
    },
    "tags": []
   },
   "outputs": [
    {
     "data": {
      "text/plain": [
       "891"
      ]
     },
     "execution_count": 18,
     "metadata": {},
     "output_type": "execute_result"
    }
   ],
   "source": [
    "len(train_data)"
   ]
  },
  {
   "cell_type": "code",
   "execution_count": 19,
   "id": "7b97bb81",
   "metadata": {
    "execution": {
     "iopub.execute_input": "2023-02-22T14:32:00.228259Z",
     "iopub.status.busy": "2023-02-22T14:32:00.227832Z",
     "iopub.status.idle": "2023-02-22T14:32:00.243579Z",
     "shell.execute_reply": "2023-02-22T14:32:00.242416Z"
    },
    "papermill": {
     "duration": 0.041351,
     "end_time": "2023-02-22T14:32:00.245935",
     "exception": false,
     "start_time": "2023-02-22T14:32:00.204584",
     "status": "completed"
    },
    "tags": []
   },
   "outputs": [
    {
     "data": {
      "text/html": [
       "<div>\n",
       "<style scoped>\n",
       "    .dataframe tbody tr th:only-of-type {\n",
       "        vertical-align: middle;\n",
       "    }\n",
       "\n",
       "    .dataframe tbody tr th {\n",
       "        vertical-align: top;\n",
       "    }\n",
       "\n",
       "    .dataframe thead th {\n",
       "        text-align: right;\n",
       "    }\n",
       "</style>\n",
       "<table border=\"1\" class=\"dataframe\">\n",
       "  <thead>\n",
       "    <tr style=\"text-align: right;\">\n",
       "      <th></th>\n",
       "      <th>PassengerId</th>\n",
       "      <th>Pclass</th>\n",
       "      <th>Name</th>\n",
       "      <th>Sex</th>\n",
       "      <th>Age</th>\n",
       "      <th>SibSp</th>\n",
       "      <th>Parch</th>\n",
       "      <th>Ticket</th>\n",
       "      <th>Fare</th>\n",
       "      <th>Cabin</th>\n",
       "      <th>Embarked</th>\n",
       "    </tr>\n",
       "  </thead>\n",
       "  <tbody>\n",
       "    <tr>\n",
       "      <th>0</th>\n",
       "      <td>892</td>\n",
       "      <td>3</td>\n",
       "      <td>Kelly, Mr. James</td>\n",
       "      <td>male</td>\n",
       "      <td>34.5</td>\n",
       "      <td>0</td>\n",
       "      <td>0</td>\n",
       "      <td>330911</td>\n",
       "      <td>7.8292</td>\n",
       "      <td>NaN</td>\n",
       "      <td>Q</td>\n",
       "    </tr>\n",
       "    <tr>\n",
       "      <th>1</th>\n",
       "      <td>893</td>\n",
       "      <td>3</td>\n",
       "      <td>Wilkes, Mrs. James (Ellen Needs)</td>\n",
       "      <td>female</td>\n",
       "      <td>47.0</td>\n",
       "      <td>1</td>\n",
       "      <td>0</td>\n",
       "      <td>363272</td>\n",
       "      <td>7.0000</td>\n",
       "      <td>NaN</td>\n",
       "      <td>S</td>\n",
       "    </tr>\n",
       "    <tr>\n",
       "      <th>2</th>\n",
       "      <td>894</td>\n",
       "      <td>2</td>\n",
       "      <td>Myles, Mr. Thomas Francis</td>\n",
       "      <td>male</td>\n",
       "      <td>62.0</td>\n",
       "      <td>0</td>\n",
       "      <td>0</td>\n",
       "      <td>240276</td>\n",
       "      <td>9.6875</td>\n",
       "      <td>NaN</td>\n",
       "      <td>Q</td>\n",
       "    </tr>\n",
       "  </tbody>\n",
       "</table>\n",
       "</div>"
      ],
      "text/plain": [
       "   PassengerId  Pclass                              Name     Sex   Age  SibSp  \\\n",
       "0          892       3                  Kelly, Mr. James    male  34.5      0   \n",
       "1          893       3  Wilkes, Mrs. James (Ellen Needs)  female  47.0      1   \n",
       "2          894       2         Myles, Mr. Thomas Francis    male  62.0      0   \n",
       "\n",
       "   Parch  Ticket    Fare Cabin Embarked  \n",
       "0      0  330911  7.8292   NaN        Q  \n",
       "1      0  363272  7.0000   NaN        S  \n",
       "2      0  240276  9.6875   NaN        Q  "
      ]
     },
     "execution_count": 19,
     "metadata": {},
     "output_type": "execute_result"
    }
   ],
   "source": [
    "test_data.head(3)"
   ]
  },
  {
   "cell_type": "code",
   "execution_count": 20,
   "id": "17ad7538",
   "metadata": {
    "execution": {
     "iopub.execute_input": "2023-02-22T14:32:00.290898Z",
     "iopub.status.busy": "2023-02-22T14:32:00.290513Z",
     "iopub.status.idle": "2023-02-22T14:32:00.299461Z",
     "shell.execute_reply": "2023-02-22T14:32:00.298403Z"
    },
    "papermill": {
     "duration": 0.034298,
     "end_time": "2023-02-22T14:32:00.301826",
     "exception": false,
     "start_time": "2023-02-22T14:32:00.267528",
     "status": "completed"
    },
    "tags": []
   },
   "outputs": [
    {
     "data": {
      "text/plain": [
       "PassengerId      0\n",
       "Pclass           0\n",
       "Name             0\n",
       "Sex              0\n",
       "Age             86\n",
       "SibSp            0\n",
       "Parch            0\n",
       "Ticket           0\n",
       "Fare             1\n",
       "Cabin          327\n",
       "Embarked         0\n",
       "dtype: int64"
      ]
     },
     "execution_count": 20,
     "metadata": {},
     "output_type": "execute_result"
    }
   ],
   "source": [
    "test_data.isnull().sum()"
   ]
  },
  {
   "cell_type": "code",
   "execution_count": 21,
   "id": "41e26fcd",
   "metadata": {
    "execution": {
     "iopub.execute_input": "2023-02-22T14:32:00.347537Z",
     "iopub.status.busy": "2023-02-22T14:32:00.347120Z",
     "iopub.status.idle": "2023-02-22T14:32:00.353875Z",
     "shell.execute_reply": "2023-02-22T14:32:00.352918Z"
    },
    "papermill": {
     "duration": 0.032387,
     "end_time": "2023-02-22T14:32:00.356070",
     "exception": false,
     "start_time": "2023-02-22T14:32:00.323683",
     "status": "completed"
    },
    "tags": []
   },
   "outputs": [],
   "source": [
    "test_data = test_data.drop(columns=['Name','Fare','Cabin','Embarked','Ticket','Cabin'])"
   ]
  },
  {
   "cell_type": "code",
   "execution_count": 22,
   "id": "14f6ca18",
   "metadata": {
    "execution": {
     "iopub.execute_input": "2023-02-22T14:32:00.401872Z",
     "iopub.status.busy": "2023-02-22T14:32:00.401063Z",
     "iopub.status.idle": "2023-02-22T14:32:00.413719Z",
     "shell.execute_reply": "2023-02-22T14:32:00.412638Z"
    },
    "papermill": {
     "duration": 0.037943,
     "end_time": "2023-02-22T14:32:00.415816",
     "exception": false,
     "start_time": "2023-02-22T14:32:00.377873",
     "status": "completed"
    },
    "tags": []
   },
   "outputs": [
    {
     "data": {
      "text/html": [
       "<div>\n",
       "<style scoped>\n",
       "    .dataframe tbody tr th:only-of-type {\n",
       "        vertical-align: middle;\n",
       "    }\n",
       "\n",
       "    .dataframe tbody tr th {\n",
       "        vertical-align: top;\n",
       "    }\n",
       "\n",
       "    .dataframe thead th {\n",
       "        text-align: right;\n",
       "    }\n",
       "</style>\n",
       "<table border=\"1\" class=\"dataframe\">\n",
       "  <thead>\n",
       "    <tr style=\"text-align: right;\">\n",
       "      <th></th>\n",
       "      <th>PassengerId</th>\n",
       "      <th>Pclass</th>\n",
       "      <th>Sex</th>\n",
       "      <th>Age</th>\n",
       "      <th>SibSp</th>\n",
       "      <th>Parch</th>\n",
       "    </tr>\n",
       "  </thead>\n",
       "  <tbody>\n",
       "    <tr>\n",
       "      <th>0</th>\n",
       "      <td>892</td>\n",
       "      <td>3</td>\n",
       "      <td>male</td>\n",
       "      <td>34.5</td>\n",
       "      <td>0</td>\n",
       "      <td>0</td>\n",
       "    </tr>\n",
       "    <tr>\n",
       "      <th>1</th>\n",
       "      <td>893</td>\n",
       "      <td>3</td>\n",
       "      <td>female</td>\n",
       "      <td>47.0</td>\n",
       "      <td>1</td>\n",
       "      <td>0</td>\n",
       "    </tr>\n",
       "    <tr>\n",
       "      <th>2</th>\n",
       "      <td>894</td>\n",
       "      <td>2</td>\n",
       "      <td>male</td>\n",
       "      <td>62.0</td>\n",
       "      <td>0</td>\n",
       "      <td>0</td>\n",
       "    </tr>\n",
       "    <tr>\n",
       "      <th>3</th>\n",
       "      <td>895</td>\n",
       "      <td>3</td>\n",
       "      <td>male</td>\n",
       "      <td>27.0</td>\n",
       "      <td>0</td>\n",
       "      <td>0</td>\n",
       "    </tr>\n",
       "    <tr>\n",
       "      <th>4</th>\n",
       "      <td>896</td>\n",
       "      <td>3</td>\n",
       "      <td>female</td>\n",
       "      <td>22.0</td>\n",
       "      <td>1</td>\n",
       "      <td>1</td>\n",
       "    </tr>\n",
       "  </tbody>\n",
       "</table>\n",
       "</div>"
      ],
      "text/plain": [
       "   PassengerId  Pclass     Sex   Age  SibSp  Parch\n",
       "0          892       3    male  34.5      0      0\n",
       "1          893       3  female  47.0      1      0\n",
       "2          894       2    male  62.0      0      0\n",
       "3          895       3    male  27.0      0      0\n",
       "4          896       3  female  22.0      1      1"
      ]
     },
     "execution_count": 22,
     "metadata": {},
     "output_type": "execute_result"
    }
   ],
   "source": [
    "test_data.head()"
   ]
  },
  {
   "cell_type": "code",
   "execution_count": 23,
   "id": "673b3849",
   "metadata": {
    "execution": {
     "iopub.execute_input": "2023-02-22T14:32:00.462308Z",
     "iopub.status.busy": "2023-02-22T14:32:00.461605Z",
     "iopub.status.idle": "2023-02-22T14:32:00.469571Z",
     "shell.execute_reply": "2023-02-22T14:32:00.468382Z"
    },
    "papermill": {
     "duration": 0.033517,
     "end_time": "2023-02-22T14:32:00.471939",
     "exception": false,
     "start_time": "2023-02-22T14:32:00.438422",
     "status": "completed"
    },
    "tags": []
   },
   "outputs": [
    {
     "data": {
      "text/plain": [
       "array([1, 0, 3, 4, 2, 5, 8])"
      ]
     },
     "execution_count": 23,
     "metadata": {},
     "output_type": "execute_result"
    }
   ],
   "source": [
    "train_data.SibSp.unique()"
   ]
  },
  {
   "cell_type": "code",
   "execution_count": 24,
   "id": "3866776f",
   "metadata": {
    "execution": {
     "iopub.execute_input": "2023-02-22T14:32:00.517796Z",
     "iopub.status.busy": "2023-02-22T14:32:00.517357Z",
     "iopub.status.idle": "2023-02-22T14:32:00.524102Z",
     "shell.execute_reply": "2023-02-22T14:32:00.523253Z"
    },
    "papermill": {
     "duration": 0.032271,
     "end_time": "2023-02-22T14:32:00.526344",
     "exception": false,
     "start_time": "2023-02-22T14:32:00.494073",
     "status": "completed"
    },
    "tags": []
   },
   "outputs": [
    {
     "data": {
      "text/plain": [
       "array([0, 1, 2, 5, 3, 4, 6])"
      ]
     },
     "execution_count": 24,
     "metadata": {},
     "output_type": "execute_result"
    }
   ],
   "source": [
    "train_data.Parch.unique()"
   ]
  },
  {
   "cell_type": "code",
   "execution_count": 25,
   "id": "2ad9254c",
   "metadata": {
    "execution": {
     "iopub.execute_input": "2023-02-22T14:32:00.573017Z",
     "iopub.status.busy": "2023-02-22T14:32:00.572610Z",
     "iopub.status.idle": "2023-02-22T14:32:00.580512Z",
     "shell.execute_reply": "2023-02-22T14:32:00.579367Z"
    },
    "papermill": {
     "duration": 0.034057,
     "end_time": "2023-02-22T14:32:00.582867",
     "exception": false,
     "start_time": "2023-02-22T14:32:00.548810",
     "status": "completed"
    },
    "tags": []
   },
   "outputs": [],
   "source": [
    "train_data_Sex = train_data['Sex']\n",
    "test_data_Sex = test_data['Sex']\n",
    "train_data = train_data.drop(columns=['Sex'])\n",
    "test_data = test_data.drop(columns = ['Sex'])"
   ]
  },
  {
   "cell_type": "code",
   "execution_count": 26,
   "id": "56a3a77d",
   "metadata": {
    "execution": {
     "iopub.execute_input": "2023-02-22T14:32:00.629244Z",
     "iopub.status.busy": "2023-02-22T14:32:00.628799Z",
     "iopub.status.idle": "2023-02-22T14:32:00.641174Z",
     "shell.execute_reply": "2023-02-22T14:32:00.639760Z"
    },
    "papermill": {
     "duration": 0.038185,
     "end_time": "2023-02-22T14:32:00.643570",
     "exception": false,
     "start_time": "2023-02-22T14:32:00.605385",
     "status": "completed"
    },
    "tags": []
   },
   "outputs": [
    {
     "data": {
      "text/html": [
       "<div>\n",
       "<style scoped>\n",
       "    .dataframe tbody tr th:only-of-type {\n",
       "        vertical-align: middle;\n",
       "    }\n",
       "\n",
       "    .dataframe tbody tr th {\n",
       "        vertical-align: top;\n",
       "    }\n",
       "\n",
       "    .dataframe thead th {\n",
       "        text-align: right;\n",
       "    }\n",
       "</style>\n",
       "<table border=\"1\" class=\"dataframe\">\n",
       "  <thead>\n",
       "    <tr style=\"text-align: right;\">\n",
       "      <th></th>\n",
       "      <th>PassengerId</th>\n",
       "      <th>Pclass</th>\n",
       "      <th>Age</th>\n",
       "      <th>SibSp</th>\n",
       "      <th>Parch</th>\n",
       "    </tr>\n",
       "  </thead>\n",
       "  <tbody>\n",
       "    <tr>\n",
       "      <th>0</th>\n",
       "      <td>892</td>\n",
       "      <td>3</td>\n",
       "      <td>34.5</td>\n",
       "      <td>0</td>\n",
       "      <td>0</td>\n",
       "    </tr>\n",
       "    <tr>\n",
       "      <th>1</th>\n",
       "      <td>893</td>\n",
       "      <td>3</td>\n",
       "      <td>47.0</td>\n",
       "      <td>1</td>\n",
       "      <td>0</td>\n",
       "    </tr>\n",
       "    <tr>\n",
       "      <th>2</th>\n",
       "      <td>894</td>\n",
       "      <td>2</td>\n",
       "      <td>62.0</td>\n",
       "      <td>0</td>\n",
       "      <td>0</td>\n",
       "    </tr>\n",
       "    <tr>\n",
       "      <th>3</th>\n",
       "      <td>895</td>\n",
       "      <td>3</td>\n",
       "      <td>27.0</td>\n",
       "      <td>0</td>\n",
       "      <td>0</td>\n",
       "    </tr>\n",
       "    <tr>\n",
       "      <th>4</th>\n",
       "      <td>896</td>\n",
       "      <td>3</td>\n",
       "      <td>22.0</td>\n",
       "      <td>1</td>\n",
       "      <td>1</td>\n",
       "    </tr>\n",
       "  </tbody>\n",
       "</table>\n",
       "</div>"
      ],
      "text/plain": [
       "   PassengerId  Pclass   Age  SibSp  Parch\n",
       "0          892       3  34.5      0      0\n",
       "1          893       3  47.0      1      0\n",
       "2          894       2  62.0      0      0\n",
       "3          895       3  27.0      0      0\n",
       "4          896       3  22.0      1      1"
      ]
     },
     "execution_count": 26,
     "metadata": {},
     "output_type": "execute_result"
    }
   ],
   "source": [
    "test_data.head()"
   ]
  },
  {
   "cell_type": "code",
   "execution_count": 27,
   "id": "bf6927ec",
   "metadata": {
    "execution": {
     "iopub.execute_input": "2023-02-22T14:32:00.690871Z",
     "iopub.status.busy": "2023-02-22T14:32:00.690427Z",
     "iopub.status.idle": "2023-02-22T14:32:00.697521Z",
     "shell.execute_reply": "2023-02-22T14:32:00.696451Z"
    },
    "papermill": {
     "duration": 0.033155,
     "end_time": "2023-02-22T14:32:00.699888",
     "exception": false,
     "start_time": "2023-02-22T14:32:00.666733",
     "status": "completed"
    },
    "tags": []
   },
   "outputs": [
    {
     "data": {
      "text/plain": [
       "(891,)"
      ]
     },
     "execution_count": 27,
     "metadata": {},
     "output_type": "execute_result"
    }
   ],
   "source": [
    "train_data_Sex.shape"
   ]
  },
  {
   "cell_type": "code",
   "execution_count": 28,
   "id": "2272f418",
   "metadata": {
    "execution": {
     "iopub.execute_input": "2023-02-22T14:32:00.748875Z",
     "iopub.status.busy": "2023-02-22T14:32:00.748450Z",
     "iopub.status.idle": "2023-02-22T14:32:00.753655Z",
     "shell.execute_reply": "2023-02-22T14:32:00.752496Z"
    },
    "papermill": {
     "duration": 0.032136,
     "end_time": "2023-02-22T14:32:00.755947",
     "exception": false,
     "start_time": "2023-02-22T14:32:00.723811",
     "status": "completed"
    },
    "tags": []
   },
   "outputs": [],
   "source": [
    "from sklearn.preprocessing import OneHotEncoder\n",
    "\n",
    "ohe = OneHotEncoder()"
   ]
  },
  {
   "cell_type": "code",
   "execution_count": 29,
   "id": "5ce9eda5",
   "metadata": {
    "execution": {
     "iopub.execute_input": "2023-02-22T14:32:00.803621Z",
     "iopub.status.busy": "2023-02-22T14:32:00.803199Z",
     "iopub.status.idle": "2023-02-22T14:32:00.809894Z",
     "shell.execute_reply": "2023-02-22T14:32:00.809067Z"
    },
    "papermill": {
     "duration": 0.032951,
     "end_time": "2023-02-22T14:32:00.811976",
     "exception": false,
     "start_time": "2023-02-22T14:32:00.779025",
     "status": "completed"
    },
    "tags": []
   },
   "outputs": [],
   "source": [
    "train_data_Sex = ohe.fit_transform(train_data_Sex.to_numpy().reshape(-1,1)).toarray()\n",
    "# "
   ]
  },
  {
   "cell_type": "code",
   "execution_count": 30,
   "id": "defdefd6",
   "metadata": {
    "execution": {
     "iopub.execute_input": "2023-02-22T14:32:00.858966Z",
     "iopub.status.busy": "2023-02-22T14:32:00.858505Z",
     "iopub.status.idle": "2023-02-22T14:32:00.865499Z",
     "shell.execute_reply": "2023-02-22T14:32:00.864270Z"
    },
    "papermill": {
     "duration": 0.033085,
     "end_time": "2023-02-22T14:32:00.867674",
     "exception": false,
     "start_time": "2023-02-22T14:32:00.834589",
     "status": "completed"
    },
    "tags": []
   },
   "outputs": [],
   "source": [
    "test_data_Sex = ohe.fit_transform(test_data_Sex.to_numpy().reshape(-1,1)).toarray()"
   ]
  },
  {
   "cell_type": "code",
   "execution_count": 31,
   "id": "5f2d6e9b",
   "metadata": {
    "execution": {
     "iopub.execute_input": "2023-02-22T14:32:00.916003Z",
     "iopub.status.busy": "2023-02-22T14:32:00.915583Z",
     "iopub.status.idle": "2023-02-22T14:32:00.923282Z",
     "shell.execute_reply": "2023-02-22T14:32:00.921968Z"
    },
    "papermill": {
     "duration": 0.034548,
     "end_time": "2023-02-22T14:32:00.925658",
     "exception": false,
     "start_time": "2023-02-22T14:32:00.891110",
     "status": "completed"
    },
    "tags": []
   },
   "outputs": [
    {
     "data": {
      "text/plain": [
       "array([0., 1.])"
      ]
     },
     "execution_count": 31,
     "metadata": {},
     "output_type": "execute_result"
    }
   ],
   "source": [
    "train_data_Sex[0]"
   ]
  },
  {
   "cell_type": "code",
   "execution_count": 32,
   "id": "cc310919",
   "metadata": {
    "execution": {
     "iopub.execute_input": "2023-02-22T14:32:00.975225Z",
     "iopub.status.busy": "2023-02-22T14:32:00.974758Z",
     "iopub.status.idle": "2023-02-22T14:32:00.981094Z",
     "shell.execute_reply": "2023-02-22T14:32:00.979901Z"
    },
    "papermill": {
     "duration": 0.033212,
     "end_time": "2023-02-22T14:32:00.983587",
     "exception": false,
     "start_time": "2023-02-22T14:32:00.950375",
     "status": "completed"
    },
    "tags": []
   },
   "outputs": [],
   "source": [
    "train_data_Sex = pd.DataFrame({'Sex':train_data_Sex[:,0]})"
   ]
  },
  {
   "cell_type": "code",
   "execution_count": 33,
   "id": "34cbcc80",
   "metadata": {
    "execution": {
     "iopub.execute_input": "2023-02-22T14:32:01.032002Z",
     "iopub.status.busy": "2023-02-22T14:32:01.031550Z",
     "iopub.status.idle": "2023-02-22T14:32:01.042621Z",
     "shell.execute_reply": "2023-02-22T14:32:01.041312Z"
    },
    "papermill": {
     "duration": 0.038017,
     "end_time": "2023-02-22T14:32:01.045127",
     "exception": false,
     "start_time": "2023-02-22T14:32:01.007110",
     "status": "completed"
    },
    "tags": []
   },
   "outputs": [
    {
     "data": {
      "text/html": [
       "<div>\n",
       "<style scoped>\n",
       "    .dataframe tbody tr th:only-of-type {\n",
       "        vertical-align: middle;\n",
       "    }\n",
       "\n",
       "    .dataframe tbody tr th {\n",
       "        vertical-align: top;\n",
       "    }\n",
       "\n",
       "    .dataframe thead th {\n",
       "        text-align: right;\n",
       "    }\n",
       "</style>\n",
       "<table border=\"1\" class=\"dataframe\">\n",
       "  <thead>\n",
       "    <tr style=\"text-align: right;\">\n",
       "      <th></th>\n",
       "      <th>Sex</th>\n",
       "    </tr>\n",
       "  </thead>\n",
       "  <tbody>\n",
       "    <tr>\n",
       "      <th>0</th>\n",
       "      <td>0.0</td>\n",
       "    </tr>\n",
       "    <tr>\n",
       "      <th>1</th>\n",
       "      <td>1.0</td>\n",
       "    </tr>\n",
       "    <tr>\n",
       "      <th>2</th>\n",
       "      <td>1.0</td>\n",
       "    </tr>\n",
       "    <tr>\n",
       "      <th>3</th>\n",
       "      <td>1.0</td>\n",
       "    </tr>\n",
       "    <tr>\n",
       "      <th>4</th>\n",
       "      <td>0.0</td>\n",
       "    </tr>\n",
       "  </tbody>\n",
       "</table>\n",
       "</div>"
      ],
      "text/plain": [
       "   Sex\n",
       "0  0.0\n",
       "1  1.0\n",
       "2  1.0\n",
       "3  1.0\n",
       "4  0.0"
      ]
     },
     "execution_count": 33,
     "metadata": {},
     "output_type": "execute_result"
    }
   ],
   "source": [
    "train_data_Sex.head()"
   ]
  },
  {
   "cell_type": "code",
   "execution_count": 34,
   "id": "3774b086",
   "metadata": {
    "execution": {
     "iopub.execute_input": "2023-02-22T14:32:01.092657Z",
     "iopub.status.busy": "2023-02-22T14:32:01.092244Z",
     "iopub.status.idle": "2023-02-22T14:32:01.098166Z",
     "shell.execute_reply": "2023-02-22T14:32:01.096979Z"
    },
    "papermill": {
     "duration": 0.032304,
     "end_time": "2023-02-22T14:32:01.100473",
     "exception": false,
     "start_time": "2023-02-22T14:32:01.068169",
     "status": "completed"
    },
    "tags": []
   },
   "outputs": [],
   "source": [
    "test_data_Sex = pd.DataFrame({'Sex':test_data_Sex[:,0]})"
   ]
  },
  {
   "cell_type": "code",
   "execution_count": 35,
   "id": "cefad610",
   "metadata": {
    "execution": {
     "iopub.execute_input": "2023-02-22T14:32:01.147900Z",
     "iopub.status.busy": "2023-02-22T14:32:01.147505Z",
     "iopub.status.idle": "2023-02-22T14:32:01.158169Z",
     "shell.execute_reply": "2023-02-22T14:32:01.157048Z"
    },
    "papermill": {
     "duration": 0.037268,
     "end_time": "2023-02-22T14:32:01.160483",
     "exception": false,
     "start_time": "2023-02-22T14:32:01.123215",
     "status": "completed"
    },
    "tags": []
   },
   "outputs": [
    {
     "data": {
      "text/html": [
       "<div>\n",
       "<style scoped>\n",
       "    .dataframe tbody tr th:only-of-type {\n",
       "        vertical-align: middle;\n",
       "    }\n",
       "\n",
       "    .dataframe tbody tr th {\n",
       "        vertical-align: top;\n",
       "    }\n",
       "\n",
       "    .dataframe thead th {\n",
       "        text-align: right;\n",
       "    }\n",
       "</style>\n",
       "<table border=\"1\" class=\"dataframe\">\n",
       "  <thead>\n",
       "    <tr style=\"text-align: right;\">\n",
       "      <th></th>\n",
       "      <th>Sex</th>\n",
       "    </tr>\n",
       "  </thead>\n",
       "  <tbody>\n",
       "    <tr>\n",
       "      <th>0</th>\n",
       "      <td>0.0</td>\n",
       "    </tr>\n",
       "    <tr>\n",
       "      <th>1</th>\n",
       "      <td>1.0</td>\n",
       "    </tr>\n",
       "    <tr>\n",
       "      <th>2</th>\n",
       "      <td>0.0</td>\n",
       "    </tr>\n",
       "    <tr>\n",
       "      <th>3</th>\n",
       "      <td>0.0</td>\n",
       "    </tr>\n",
       "    <tr>\n",
       "      <th>4</th>\n",
       "      <td>1.0</td>\n",
       "    </tr>\n",
       "  </tbody>\n",
       "</table>\n",
       "</div>"
      ],
      "text/plain": [
       "   Sex\n",
       "0  0.0\n",
       "1  1.0\n",
       "2  0.0\n",
       "3  0.0\n",
       "4  1.0"
      ]
     },
     "execution_count": 35,
     "metadata": {},
     "output_type": "execute_result"
    }
   ],
   "source": [
    "test_data_Sex.head()"
   ]
  },
  {
   "cell_type": "code",
   "execution_count": 36,
   "id": "2017d0ef",
   "metadata": {
    "execution": {
     "iopub.execute_input": "2023-02-22T14:32:01.208904Z",
     "iopub.status.busy": "2023-02-22T14:32:01.208169Z",
     "iopub.status.idle": "2023-02-22T14:32:01.215454Z",
     "shell.execute_reply": "2023-02-22T14:32:01.214386Z"
    },
    "papermill": {
     "duration": 0.03416,
     "end_time": "2023-02-22T14:32:01.217811",
     "exception": false,
     "start_time": "2023-02-22T14:32:01.183651",
     "status": "completed"
    },
    "tags": []
   },
   "outputs": [],
   "source": [
    "train_data = pd.concat([train_data,train_data_Sex],axis=1)\n",
    "test_data = pd.concat([test_data,test_data_Sex],axis=1)"
   ]
  },
  {
   "cell_type": "code",
   "execution_count": 37,
   "id": "f6f21335",
   "metadata": {
    "execution": {
     "iopub.execute_input": "2023-02-22T14:32:01.266272Z",
     "iopub.status.busy": "2023-02-22T14:32:01.265181Z",
     "iopub.status.idle": "2023-02-22T14:32:01.274407Z",
     "shell.execute_reply": "2023-02-22T14:32:01.273386Z"
    },
    "papermill": {
     "duration": 0.035813,
     "end_time": "2023-02-22T14:32:01.276611",
     "exception": false,
     "start_time": "2023-02-22T14:32:01.240798",
     "status": "completed"
    },
    "tags": []
   },
   "outputs": [
    {
     "data": {
      "text/plain": [
       "PassengerId      0\n",
       "Survived         0\n",
       "Pclass           0\n",
       "Age            177\n",
       "SibSp            0\n",
       "Parch            0\n",
       "Sex              0\n",
       "dtype: int64"
      ]
     },
     "execution_count": 37,
     "metadata": {},
     "output_type": "execute_result"
    }
   ],
   "source": [
    "train_data.isnull().sum()"
   ]
  },
  {
   "cell_type": "code",
   "execution_count": 38,
   "id": "ea741a12",
   "metadata": {
    "execution": {
     "iopub.execute_input": "2023-02-22T14:32:01.325297Z",
     "iopub.status.busy": "2023-02-22T14:32:01.324399Z",
     "iopub.status.idle": "2023-02-22T14:32:01.349619Z",
     "shell.execute_reply": "2023-02-22T14:32:01.348459Z"
    },
    "papermill": {
     "duration": 0.052576,
     "end_time": "2023-02-22T14:32:01.352228",
     "exception": false,
     "start_time": "2023-02-22T14:32:01.299652",
     "status": "completed"
    },
    "tags": []
   },
   "outputs": [
    {
     "data": {
      "text/html": [
       "<div>\n",
       "<style scoped>\n",
       "    .dataframe tbody tr th:only-of-type {\n",
       "        vertical-align: middle;\n",
       "    }\n",
       "\n",
       "    .dataframe tbody tr th {\n",
       "        vertical-align: top;\n",
       "    }\n",
       "\n",
       "    .dataframe thead th {\n",
       "        text-align: right;\n",
       "    }\n",
       "</style>\n",
       "<table border=\"1\" class=\"dataframe\">\n",
       "  <thead>\n",
       "    <tr style=\"text-align: right;\">\n",
       "      <th></th>\n",
       "      <th>PassengerId</th>\n",
       "      <th>Survived</th>\n",
       "      <th>Pclass</th>\n",
       "      <th>Age</th>\n",
       "      <th>SibSp</th>\n",
       "      <th>Parch</th>\n",
       "      <th>Sex</th>\n",
       "    </tr>\n",
       "  </thead>\n",
       "  <tbody>\n",
       "    <tr>\n",
       "      <th>0</th>\n",
       "      <td>1</td>\n",
       "      <td>0</td>\n",
       "      <td>3</td>\n",
       "      <td>22.00</td>\n",
       "      <td>1</td>\n",
       "      <td>0</td>\n",
       "      <td>0.0</td>\n",
       "    </tr>\n",
       "    <tr>\n",
       "      <th>1</th>\n",
       "      <td>2</td>\n",
       "      <td>1</td>\n",
       "      <td>1</td>\n",
       "      <td>38.00</td>\n",
       "      <td>1</td>\n",
       "      <td>0</td>\n",
       "      <td>1.0</td>\n",
       "    </tr>\n",
       "    <tr>\n",
       "      <th>2</th>\n",
       "      <td>3</td>\n",
       "      <td>1</td>\n",
       "      <td>3</td>\n",
       "      <td>26.00</td>\n",
       "      <td>0</td>\n",
       "      <td>0</td>\n",
       "      <td>1.0</td>\n",
       "    </tr>\n",
       "    <tr>\n",
       "      <th>3</th>\n",
       "      <td>4</td>\n",
       "      <td>1</td>\n",
       "      <td>1</td>\n",
       "      <td>35.00</td>\n",
       "      <td>1</td>\n",
       "      <td>0</td>\n",
       "      <td>1.0</td>\n",
       "    </tr>\n",
       "    <tr>\n",
       "      <th>4</th>\n",
       "      <td>5</td>\n",
       "      <td>0</td>\n",
       "      <td>3</td>\n",
       "      <td>35.00</td>\n",
       "      <td>0</td>\n",
       "      <td>0</td>\n",
       "      <td>0.0</td>\n",
       "    </tr>\n",
       "    <tr>\n",
       "      <th>...</th>\n",
       "      <td>...</td>\n",
       "      <td>...</td>\n",
       "      <td>...</td>\n",
       "      <td>...</td>\n",
       "      <td>...</td>\n",
       "      <td>...</td>\n",
       "      <td>...</td>\n",
       "    </tr>\n",
       "    <tr>\n",
       "      <th>886</th>\n",
       "      <td>887</td>\n",
       "      <td>0</td>\n",
       "      <td>2</td>\n",
       "      <td>27.00</td>\n",
       "      <td>0</td>\n",
       "      <td>0</td>\n",
       "      <td>0.0</td>\n",
       "    </tr>\n",
       "    <tr>\n",
       "      <th>887</th>\n",
       "      <td>888</td>\n",
       "      <td>1</td>\n",
       "      <td>1</td>\n",
       "      <td>19.00</td>\n",
       "      <td>0</td>\n",
       "      <td>0</td>\n",
       "      <td>1.0</td>\n",
       "    </tr>\n",
       "    <tr>\n",
       "      <th>888</th>\n",
       "      <td>889</td>\n",
       "      <td>0</td>\n",
       "      <td>3</td>\n",
       "      <td>21.75</td>\n",
       "      <td>1</td>\n",
       "      <td>2</td>\n",
       "      <td>1.0</td>\n",
       "    </tr>\n",
       "    <tr>\n",
       "      <th>889</th>\n",
       "      <td>890</td>\n",
       "      <td>1</td>\n",
       "      <td>1</td>\n",
       "      <td>26.00</td>\n",
       "      <td>0</td>\n",
       "      <td>0</td>\n",
       "      <td>0.0</td>\n",
       "    </tr>\n",
       "    <tr>\n",
       "      <th>890</th>\n",
       "      <td>891</td>\n",
       "      <td>0</td>\n",
       "      <td>3</td>\n",
       "      <td>32.00</td>\n",
       "      <td>0</td>\n",
       "      <td>0</td>\n",
       "      <td>0.0</td>\n",
       "    </tr>\n",
       "  </tbody>\n",
       "</table>\n",
       "<p>891 rows × 7 columns</p>\n",
       "</div>"
      ],
      "text/plain": [
       "     PassengerId  Survived  Pclass    Age  SibSp  Parch  Sex\n",
       "0              1         0       3  22.00      1      0  0.0\n",
       "1              2         1       1  38.00      1      0  1.0\n",
       "2              3         1       3  26.00      0      0  1.0\n",
       "3              4         1       1  35.00      1      0  1.0\n",
       "4              5         0       3  35.00      0      0  0.0\n",
       "..           ...       ...     ...    ...    ...    ...  ...\n",
       "886          887         0       2  27.00      0      0  0.0\n",
       "887          888         1       1  19.00      0      0  1.0\n",
       "888          889         0       3  21.75      1      2  1.0\n",
       "889          890         1       1  26.00      0      0  0.0\n",
       "890          891         0       3  32.00      0      0  0.0\n",
       "\n",
       "[891 rows x 7 columns]"
      ]
     },
     "execution_count": 38,
     "metadata": {},
     "output_type": "execute_result"
    }
   ],
   "source": [
    "train_data['Age'] = train_data.groupby(['Sex','Pclass'])['Age'].apply(lambda row : row.fillna(row.mean()))\n",
    "train_data"
   ]
  },
  {
   "cell_type": "code",
   "execution_count": 39,
   "id": "122678b2",
   "metadata": {
    "execution": {
     "iopub.execute_input": "2023-02-22T14:32:01.401529Z",
     "iopub.status.busy": "2023-02-22T14:32:01.401082Z",
     "iopub.status.idle": "2023-02-22T14:32:01.425036Z",
     "shell.execute_reply": "2023-02-22T14:32:01.423953Z"
    },
    "papermill": {
     "duration": 0.051547,
     "end_time": "2023-02-22T14:32:01.427560",
     "exception": false,
     "start_time": "2023-02-22T14:32:01.376013",
     "status": "completed"
    },
    "tags": []
   },
   "outputs": [
    {
     "data": {
      "text/html": [
       "<div>\n",
       "<style scoped>\n",
       "    .dataframe tbody tr th:only-of-type {\n",
       "        vertical-align: middle;\n",
       "    }\n",
       "\n",
       "    .dataframe tbody tr th {\n",
       "        vertical-align: top;\n",
       "    }\n",
       "\n",
       "    .dataframe thead th {\n",
       "        text-align: right;\n",
       "    }\n",
       "</style>\n",
       "<table border=\"1\" class=\"dataframe\">\n",
       "  <thead>\n",
       "    <tr style=\"text-align: right;\">\n",
       "      <th></th>\n",
       "      <th>PassengerId</th>\n",
       "      <th>Pclass</th>\n",
       "      <th>Age</th>\n",
       "      <th>SibSp</th>\n",
       "      <th>Parch</th>\n",
       "      <th>Sex</th>\n",
       "    </tr>\n",
       "  </thead>\n",
       "  <tbody>\n",
       "    <tr>\n",
       "      <th>0</th>\n",
       "      <td>892</td>\n",
       "      <td>3</td>\n",
       "      <td>34.500000</td>\n",
       "      <td>0</td>\n",
       "      <td>0</td>\n",
       "      <td>0.0</td>\n",
       "    </tr>\n",
       "    <tr>\n",
       "      <th>1</th>\n",
       "      <td>893</td>\n",
       "      <td>3</td>\n",
       "      <td>47.000000</td>\n",
       "      <td>1</td>\n",
       "      <td>0</td>\n",
       "      <td>1.0</td>\n",
       "    </tr>\n",
       "    <tr>\n",
       "      <th>2</th>\n",
       "      <td>894</td>\n",
       "      <td>2</td>\n",
       "      <td>62.000000</td>\n",
       "      <td>0</td>\n",
       "      <td>0</td>\n",
       "      <td>0.0</td>\n",
       "    </tr>\n",
       "    <tr>\n",
       "      <th>3</th>\n",
       "      <td>895</td>\n",
       "      <td>3</td>\n",
       "      <td>27.000000</td>\n",
       "      <td>0</td>\n",
       "      <td>0</td>\n",
       "      <td>0.0</td>\n",
       "    </tr>\n",
       "    <tr>\n",
       "      <th>4</th>\n",
       "      <td>896</td>\n",
       "      <td>3</td>\n",
       "      <td>22.000000</td>\n",
       "      <td>1</td>\n",
       "      <td>1</td>\n",
       "      <td>1.0</td>\n",
       "    </tr>\n",
       "    <tr>\n",
       "      <th>...</th>\n",
       "      <td>...</td>\n",
       "      <td>...</td>\n",
       "      <td>...</td>\n",
       "      <td>...</td>\n",
       "      <td>...</td>\n",
       "      <td>...</td>\n",
       "    </tr>\n",
       "    <tr>\n",
       "      <th>413</th>\n",
       "      <td>1305</td>\n",
       "      <td>3</td>\n",
       "      <td>24.525104</td>\n",
       "      <td>0</td>\n",
       "      <td>0</td>\n",
       "      <td>0.0</td>\n",
       "    </tr>\n",
       "    <tr>\n",
       "      <th>414</th>\n",
       "      <td>1306</td>\n",
       "      <td>1</td>\n",
       "      <td>39.000000</td>\n",
       "      <td>0</td>\n",
       "      <td>0</td>\n",
       "      <td>1.0</td>\n",
       "    </tr>\n",
       "    <tr>\n",
       "      <th>415</th>\n",
       "      <td>1307</td>\n",
       "      <td>3</td>\n",
       "      <td>38.500000</td>\n",
       "      <td>0</td>\n",
       "      <td>0</td>\n",
       "      <td>0.0</td>\n",
       "    </tr>\n",
       "    <tr>\n",
       "      <th>416</th>\n",
       "      <td>1308</td>\n",
       "      <td>3</td>\n",
       "      <td>24.525104</td>\n",
       "      <td>0</td>\n",
       "      <td>0</td>\n",
       "      <td>0.0</td>\n",
       "    </tr>\n",
       "    <tr>\n",
       "      <th>417</th>\n",
       "      <td>1309</td>\n",
       "      <td>3</td>\n",
       "      <td>24.525104</td>\n",
       "      <td>1</td>\n",
       "      <td>1</td>\n",
       "      <td>0.0</td>\n",
       "    </tr>\n",
       "  </tbody>\n",
       "</table>\n",
       "<p>418 rows × 6 columns</p>\n",
       "</div>"
      ],
      "text/plain": [
       "     PassengerId  Pclass        Age  SibSp  Parch  Sex\n",
       "0            892       3  34.500000      0      0  0.0\n",
       "1            893       3  47.000000      1      0  1.0\n",
       "2            894       2  62.000000      0      0  0.0\n",
       "3            895       3  27.000000      0      0  0.0\n",
       "4            896       3  22.000000      1      1  1.0\n",
       "..           ...     ...        ...    ...    ...  ...\n",
       "413         1305       3  24.525104      0      0  0.0\n",
       "414         1306       1  39.000000      0      0  1.0\n",
       "415         1307       3  38.500000      0      0  0.0\n",
       "416         1308       3  24.525104      0      0  0.0\n",
       "417         1309       3  24.525104      1      1  0.0\n",
       "\n",
       "[418 rows x 6 columns]"
      ]
     },
     "execution_count": 39,
     "metadata": {},
     "output_type": "execute_result"
    }
   ],
   "source": [
    "test_data['Age'] = test_data.groupby(['Sex','Pclass'])['Age'].apply(lambda row : row.fillna(row.mean()))\n",
    "test_data"
   ]
  },
  {
   "cell_type": "code",
   "execution_count": 40,
   "id": "4d8cd377",
   "metadata": {
    "execution": {
     "iopub.execute_input": "2023-02-22T14:32:01.477762Z",
     "iopub.status.busy": "2023-02-22T14:32:01.477374Z",
     "iopub.status.idle": "2023-02-22T14:32:01.484569Z",
     "shell.execute_reply": "2023-02-22T14:32:01.483274Z"
    },
    "papermill": {
     "duration": 0.035238,
     "end_time": "2023-02-22T14:32:01.486925",
     "exception": false,
     "start_time": "2023-02-22T14:32:01.451687",
     "status": "completed"
    },
    "tags": []
   },
   "outputs": [
    {
     "data": {
      "text/plain": [
       "891"
      ]
     },
     "execution_count": 40,
     "metadata": {},
     "output_type": "execute_result"
    }
   ],
   "source": [
    "len(train_data)"
   ]
  },
  {
   "cell_type": "code",
   "execution_count": 41,
   "id": "a981316f",
   "metadata": {
    "execution": {
     "iopub.execute_input": "2023-02-22T14:32:01.539891Z",
     "iopub.status.busy": "2023-02-22T14:32:01.539496Z",
     "iopub.status.idle": "2023-02-22T14:32:01.548791Z",
     "shell.execute_reply": "2023-02-22T14:32:01.547533Z"
    },
    "papermill": {
     "duration": 0.039312,
     "end_time": "2023-02-22T14:32:01.551004",
     "exception": false,
     "start_time": "2023-02-22T14:32:01.511692",
     "status": "completed"
    },
    "tags": []
   },
   "outputs": [
    {
     "data": {
      "text/plain": [
       "PassengerId    0\n",
       "Survived       0\n",
       "Pclass         0\n",
       "Age            0\n",
       "SibSp          0\n",
       "Parch          0\n",
       "Sex            0\n",
       "dtype: int64"
      ]
     },
     "execution_count": 41,
     "metadata": {},
     "output_type": "execute_result"
    }
   ],
   "source": [
    "train_data.isnull().sum()"
   ]
  },
  {
   "cell_type": "markdown",
   "id": "9d51cf06",
   "metadata": {
    "papermill": {
     "duration": 0.024043,
     "end_time": "2023-02-22T14:32:01.599299",
     "exception": false,
     "start_time": "2023-02-22T14:32:01.575256",
     "status": "completed"
    },
    "tags": []
   },
   "source": [
    "### Model Selection and Training"
   ]
  },
  {
   "cell_type": "code",
   "execution_count": 42,
   "id": "1e63fb05",
   "metadata": {
    "execution": {
     "iopub.execute_input": "2023-02-22T14:32:01.649689Z",
     "iopub.status.busy": "2023-02-22T14:32:01.648855Z",
     "iopub.status.idle": "2023-02-22T14:32:01.663613Z",
     "shell.execute_reply": "2023-02-22T14:32:01.662734Z"
    },
    "papermill": {
     "duration": 0.042646,
     "end_time": "2023-02-22T14:32:01.666179",
     "exception": false,
     "start_time": "2023-02-22T14:32:01.623533",
     "status": "completed"
    },
    "tags": []
   },
   "outputs": [],
   "source": [
    "sc = StandardScaler()\n",
    "train_data_sc = sc.fit_transform(train_data.drop(columns=['PassengerId','Survived']))\n",
    "\n",
    "test_data_sc = sc.fit_transform(test_data.drop(columns=['PassengerId']))"
   ]
  },
  {
   "cell_type": "code",
   "execution_count": 43,
   "id": "ec3e1e4f",
   "metadata": {
    "execution": {
     "iopub.execute_input": "2023-02-22T14:32:01.717365Z",
     "iopub.status.busy": "2023-02-22T14:32:01.716965Z",
     "iopub.status.idle": "2023-02-22T14:32:01.723184Z",
     "shell.execute_reply": "2023-02-22T14:32:01.722084Z"
    },
    "papermill": {
     "duration": 0.034817,
     "end_time": "2023-02-22T14:32:01.725372",
     "exception": false,
     "start_time": "2023-02-22T14:32:01.690555",
     "status": "completed"
    },
    "tags": []
   },
   "outputs": [],
   "source": [
    "train_data_X = train_data_sc\n",
    "train_data_Y = train_data[['PassengerId','Survived']]"
   ]
  },
  {
   "cell_type": "code",
   "execution_count": 44,
   "id": "62bb3a09",
   "metadata": {
    "execution": {
     "iopub.execute_input": "2023-02-22T14:32:01.777408Z",
     "iopub.status.busy": "2023-02-22T14:32:01.776673Z",
     "iopub.status.idle": "2023-02-22T14:32:01.788824Z",
     "shell.execute_reply": "2023-02-22T14:32:01.787460Z"
    },
    "papermill": {
     "duration": 0.041252,
     "end_time": "2023-02-22T14:32:01.791510",
     "exception": false,
     "start_time": "2023-02-22T14:32:01.750258",
     "status": "completed"
    },
    "tags": []
   },
   "outputs": [
    {
     "data": {
      "text/html": [
       "<div>\n",
       "<style scoped>\n",
       "    .dataframe tbody tr th:only-of-type {\n",
       "        vertical-align: middle;\n",
       "    }\n",
       "\n",
       "    .dataframe tbody tr th {\n",
       "        vertical-align: top;\n",
       "    }\n",
       "\n",
       "    .dataframe thead th {\n",
       "        text-align: right;\n",
       "    }\n",
       "</style>\n",
       "<table border=\"1\" class=\"dataframe\">\n",
       "  <thead>\n",
       "    <tr style=\"text-align: right;\">\n",
       "      <th></th>\n",
       "      <th>PassengerId</th>\n",
       "      <th>Pclass</th>\n",
       "      <th>Age</th>\n",
       "      <th>SibSp</th>\n",
       "      <th>Parch</th>\n",
       "      <th>Sex</th>\n",
       "    </tr>\n",
       "  </thead>\n",
       "  <tbody>\n",
       "    <tr>\n",
       "      <th>0</th>\n",
       "      <td>892</td>\n",
       "      <td>3</td>\n",
       "      <td>34.5</td>\n",
       "      <td>0</td>\n",
       "      <td>0</td>\n",
       "      <td>0.0</td>\n",
       "    </tr>\n",
       "    <tr>\n",
       "      <th>1</th>\n",
       "      <td>893</td>\n",
       "      <td>3</td>\n",
       "      <td>47.0</td>\n",
       "      <td>1</td>\n",
       "      <td>0</td>\n",
       "      <td>1.0</td>\n",
       "    </tr>\n",
       "    <tr>\n",
       "      <th>2</th>\n",
       "      <td>894</td>\n",
       "      <td>2</td>\n",
       "      <td>62.0</td>\n",
       "      <td>0</td>\n",
       "      <td>0</td>\n",
       "      <td>0.0</td>\n",
       "    </tr>\n",
       "    <tr>\n",
       "      <th>3</th>\n",
       "      <td>895</td>\n",
       "      <td>3</td>\n",
       "      <td>27.0</td>\n",
       "      <td>0</td>\n",
       "      <td>0</td>\n",
       "      <td>0.0</td>\n",
       "    </tr>\n",
       "    <tr>\n",
       "      <th>4</th>\n",
       "      <td>896</td>\n",
       "      <td>3</td>\n",
       "      <td>22.0</td>\n",
       "      <td>1</td>\n",
       "      <td>1</td>\n",
       "      <td>1.0</td>\n",
       "    </tr>\n",
       "  </tbody>\n",
       "</table>\n",
       "</div>"
      ],
      "text/plain": [
       "   PassengerId  Pclass   Age  SibSp  Parch  Sex\n",
       "0          892       3  34.5      0      0  0.0\n",
       "1          893       3  47.0      1      0  1.0\n",
       "2          894       2  62.0      0      0  0.0\n",
       "3          895       3  27.0      0      0  0.0\n",
       "4          896       3  22.0      1      1  1.0"
      ]
     },
     "execution_count": 44,
     "metadata": {},
     "output_type": "execute_result"
    }
   ],
   "source": [
    "test_data.head()"
   ]
  },
  {
   "cell_type": "code",
   "execution_count": 45,
   "id": "0d6713ef",
   "metadata": {
    "execution": {
     "iopub.execute_input": "2023-02-22T14:32:01.842513Z",
     "iopub.status.busy": "2023-02-22T14:32:01.842072Z",
     "iopub.status.idle": "2023-02-22T14:32:01.849659Z",
     "shell.execute_reply": "2023-02-22T14:32:01.848403Z"
    },
    "papermill": {
     "duration": 0.035856,
     "end_time": "2023-02-22T14:32:01.851971",
     "exception": false,
     "start_time": "2023-02-22T14:32:01.816115",
     "status": "completed"
    },
    "tags": []
   },
   "outputs": [
    {
     "data": {
      "text/plain": [
       "500"
      ]
     },
     "execution_count": 45,
     "metadata": {},
     "output_type": "execute_result"
    }
   ],
   "source": [
    "len(train_data[:500])"
   ]
  },
  {
   "cell_type": "code",
   "execution_count": 46,
   "id": "574f1d35",
   "metadata": {
    "execution": {
     "iopub.execute_input": "2023-02-22T14:32:01.904651Z",
     "iopub.status.busy": "2023-02-22T14:32:01.903603Z",
     "iopub.status.idle": "2023-02-22T14:32:02.102111Z",
     "shell.execute_reply": "2023-02-22T14:32:02.100820Z"
    },
    "papermill": {
     "duration": 0.227773,
     "end_time": "2023-02-22T14:32:02.104898",
     "exception": false,
     "start_time": "2023-02-22T14:32:01.877125",
     "status": "completed"
    },
    "tags": []
   },
   "outputs": [],
   "source": [
    "rfe = RandomForestClassifier()\n",
    "rfe.fit(train_data_X[:500],train_data_Y.drop(columns=['PassengerId'])[:500].to_numpy().ravel())\n",
    "train_data_pred = rfe.predict(train_data_X[500:])"
   ]
  },
  {
   "cell_type": "code",
   "execution_count": 47,
   "id": "6ffefbf8",
   "metadata": {
    "execution": {
     "iopub.execute_input": "2023-02-22T14:32:02.156553Z",
     "iopub.status.busy": "2023-02-22T14:32:02.156125Z",
     "iopub.status.idle": "2023-02-22T14:32:02.163720Z",
     "shell.execute_reply": "2023-02-22T14:32:02.162531Z"
    },
    "papermill": {
     "duration": 0.036123,
     "end_time": "2023-02-22T14:32:02.166063",
     "exception": false,
     "start_time": "2023-02-22T14:32:02.129940",
     "status": "completed"
    },
    "tags": []
   },
   "outputs": [],
   "source": [
    "pred_acc_rfe = accuracy_score(train_data_Y.drop(columns=['PassengerId'])[500:].to_numpy().ravel(),train_data_pred)"
   ]
  },
  {
   "cell_type": "code",
   "execution_count": 48,
   "id": "26068425",
   "metadata": {
    "execution": {
     "iopub.execute_input": "2023-02-22T14:32:02.218299Z",
     "iopub.status.busy": "2023-02-22T14:32:02.217864Z",
     "iopub.status.idle": "2023-02-22T14:32:02.224977Z",
     "shell.execute_reply": "2023-02-22T14:32:02.223726Z"
    },
    "papermill": {
     "duration": 0.036526,
     "end_time": "2023-02-22T14:32:02.227371",
     "exception": false,
     "start_time": "2023-02-22T14:32:02.190845",
     "status": "completed"
    },
    "tags": []
   },
   "outputs": [
    {
     "data": {
      "text/plain": [
       "0.7800511508951407"
      ]
     },
     "execution_count": 48,
     "metadata": {},
     "output_type": "execute_result"
    }
   ],
   "source": [
    "pred_acc_rfe"
   ]
  },
  {
   "cell_type": "code",
   "execution_count": 49,
   "id": "46d80f89",
   "metadata": {
    "execution": {
     "iopub.execute_input": "2023-02-22T14:32:02.278878Z",
     "iopub.status.busy": "2023-02-22T14:32:02.278439Z",
     "iopub.status.idle": "2023-02-22T14:32:02.287092Z",
     "shell.execute_reply": "2023-02-22T14:32:02.285936Z"
    },
    "papermill": {
     "duration": 0.037414,
     "end_time": "2023-02-22T14:32:02.289428",
     "exception": false,
     "start_time": "2023-02-22T14:32:02.252014",
     "status": "completed"
    },
    "tags": []
   },
   "outputs": [],
   "source": [
    "dtree = DecisionTreeClassifier()\n",
    "dtree.fit(train_data_X[:500],train_data_Y.drop(columns=['PassengerId'])[:500].to_numpy().ravel())\n",
    "train_data_pred = dtree.predict(train_data_X[500:])"
   ]
  },
  {
   "cell_type": "code",
   "execution_count": 50,
   "id": "2011ae44",
   "metadata": {
    "execution": {
     "iopub.execute_input": "2023-02-22T14:32:02.342043Z",
     "iopub.status.busy": "2023-02-22T14:32:02.341610Z",
     "iopub.status.idle": "2023-02-22T14:32:02.350269Z",
     "shell.execute_reply": "2023-02-22T14:32:02.349192Z"
    },
    "papermill": {
     "duration": 0.038115,
     "end_time": "2023-02-22T14:32:02.352549",
     "exception": false,
     "start_time": "2023-02-22T14:32:02.314434",
     "status": "completed"
    },
    "tags": []
   },
   "outputs": [
    {
     "data": {
      "text/plain": [
       "0.7647058823529411"
      ]
     },
     "execution_count": 50,
     "metadata": {},
     "output_type": "execute_result"
    }
   ],
   "source": [
    "pred_acc_dtree = accuracy_score(train_data_Y.drop(columns=['PassengerId'])[500:].to_numpy().ravel(),train_data_pred)\n",
    "pred_acc_dtree"
   ]
  },
  {
   "cell_type": "code",
   "execution_count": 51,
   "id": "f698bafe",
   "metadata": {
    "execution": {
     "iopub.execute_input": "2023-02-22T14:32:02.404306Z",
     "iopub.status.busy": "2023-02-22T14:32:02.403078Z",
     "iopub.status.idle": "2023-02-22T14:32:02.426481Z",
     "shell.execute_reply": "2023-02-22T14:32:02.425483Z"
    },
    "papermill": {
     "duration": 0.052048,
     "end_time": "2023-02-22T14:32:02.429116",
     "exception": false,
     "start_time": "2023-02-22T14:32:02.377068",
     "status": "completed"
    },
    "tags": []
   },
   "outputs": [],
   "source": [
    "svc = SVC()\n",
    "svc.fit(train_data_X[:500],train_data_Y.drop(columns=['PassengerId'])[:500].to_numpy().ravel())\n",
    "train_data_pred = svc.predict(train_data_X[500:])"
   ]
  },
  {
   "cell_type": "code",
   "execution_count": 52,
   "id": "59b1e7de",
   "metadata": {
    "execution": {
     "iopub.execute_input": "2023-02-22T14:32:02.481756Z",
     "iopub.status.busy": "2023-02-22T14:32:02.481326Z",
     "iopub.status.idle": "2023-02-22T14:32:02.490753Z",
     "shell.execute_reply": "2023-02-22T14:32:02.489837Z"
    },
    "papermill": {
     "duration": 0.038275,
     "end_time": "2023-02-22T14:32:02.492918",
     "exception": false,
     "start_time": "2023-02-22T14:32:02.454643",
     "status": "completed"
    },
    "tags": []
   },
   "outputs": [
    {
     "data": {
      "text/plain": [
       "0.8235294117647058"
      ]
     },
     "execution_count": 52,
     "metadata": {},
     "output_type": "execute_result"
    }
   ],
   "source": [
    "pred_acc_svc = accuracy_score(train_data_Y.drop(columns=['PassengerId'])[500:].to_numpy().ravel(),train_data_pred)\n",
    "pred_acc_svc"
   ]
  },
  {
   "cell_type": "code",
   "execution_count": 53,
   "id": "707fcbf8",
   "metadata": {
    "execution": {
     "iopub.execute_input": "2023-02-22T14:32:02.545202Z",
     "iopub.status.busy": "2023-02-22T14:32:02.544453Z",
     "iopub.status.idle": "2023-02-22T14:32:02.556433Z",
     "shell.execute_reply": "2023-02-22T14:32:02.555278Z"
    },
    "papermill": {
     "duration": 0.04082,
     "end_time": "2023-02-22T14:32:02.558947",
     "exception": false,
     "start_time": "2023-02-22T14:32:02.518127",
     "status": "completed"
    },
    "tags": []
   },
   "outputs": [],
   "source": [
    "lg = LogisticRegression()\n",
    "lg.fit(train_data_X[:500],train_data_Y.drop(columns=['PassengerId'])[:500].to_numpy().ravel())\n",
    "train_data_pred = lg.predict(train_data_X[500:])"
   ]
  },
  {
   "cell_type": "code",
   "execution_count": 54,
   "id": "efe80d35",
   "metadata": {
    "execution": {
     "iopub.execute_input": "2023-02-22T14:32:02.612308Z",
     "iopub.status.busy": "2023-02-22T14:32:02.611282Z",
     "iopub.status.idle": "2023-02-22T14:32:02.620495Z",
     "shell.execute_reply": "2023-02-22T14:32:02.619473Z"
    },
    "papermill": {
     "duration": 0.038573,
     "end_time": "2023-02-22T14:32:02.622698",
     "exception": false,
     "start_time": "2023-02-22T14:32:02.584125",
     "status": "completed"
    },
    "tags": []
   },
   "outputs": [
    {
     "data": {
      "text/plain": [
       "0.7902813299232737"
      ]
     },
     "execution_count": 54,
     "metadata": {},
     "output_type": "execute_result"
    }
   ],
   "source": [
    "pred_acc_lg = accuracy_score(train_data_Y.drop(columns=['PassengerId'])[500:].to_numpy().ravel(),train_data_pred)\n",
    "pred_acc_lg"
   ]
  },
  {
   "cell_type": "code",
   "execution_count": 55,
   "id": "fb29ffd6",
   "metadata": {
    "execution": {
     "iopub.execute_input": "2023-02-22T14:32:02.675652Z",
     "iopub.status.busy": "2023-02-22T14:32:02.675241Z",
     "iopub.status.idle": "2023-02-22T14:32:02.689059Z",
     "shell.execute_reply": "2023-02-22T14:32:02.687982Z"
    },
    "papermill": {
     "duration": 0.042823,
     "end_time": "2023-02-22T14:32:02.691296",
     "exception": false,
     "start_time": "2023-02-22T14:32:02.648473",
     "status": "completed"
    },
    "tags": []
   },
   "outputs": [
    {
     "data": {
      "text/plain": [
       "array([0, 1, 0, 0, 1, 0, 1, 0, 1, 0, 0, 0, 1, 0, 1, 1, 0, 0, 1, 1, 0, 0,\n",
       "       1, 0, 1, 0, 1, 0, 0, 0, 0, 0, 1, 1, 0, 0, 1, 1, 0, 0, 0, 0, 0, 1,\n",
       "       1, 0, 0, 0, 1, 1, 0, 0, 1, 1, 0, 0, 0, 0, 0, 1, 0, 0, 0, 1, 0, 1,\n",
       "       1, 0, 0, 0, 1, 0, 1, 0, 1, 0, 0, 1, 0, 1, 1, 0, 0, 0, 0, 0, 1, 1,\n",
       "       1, 1, 1, 0, 1, 0, 0, 0, 1, 0, 1, 0, 1, 0, 0, 0, 1, 0, 0, 0, 0, 0,\n",
       "       0, 1, 1, 1, 1, 0, 0, 1, 0, 1, 1, 0, 1, 0, 0, 1, 0, 0, 0, 0, 0, 0,\n",
       "       1, 0, 0, 0, 0, 0, 1, 0, 0, 1, 0, 0, 0, 0, 0, 0, 0, 0, 1, 0, 0, 1,\n",
       "       0, 0, 1, 1, 0, 1, 1, 0, 1, 0, 0, 1, 0, 0, 1, 1, 0, 0, 0, 0, 0, 1,\n",
       "       1, 0, 1, 1, 0, 0, 1, 0, 1, 0, 1, 0, 0, 0, 0, 0, 0, 0, 1, 0, 1, 1,\n",
       "       0, 1, 1, 1, 0, 1, 0, 0, 1, 0, 1, 0, 0, 0, 0, 1, 0, 0, 1, 0, 1, 0,\n",
       "       1, 0, 1, 0, 1, 1, 0, 1, 0, 0, 0, 1, 0, 0, 0, 0, 0, 0, 1, 1, 1, 1,\n",
       "       0, 0, 0, 0, 1, 0, 1, 1, 1, 0, 0, 0, 0, 0, 0, 0, 1, 0, 0, 0, 1, 1,\n",
       "       0, 0, 0, 0, 1, 0, 0, 0, 1, 1, 0, 1, 0, 0, 0, 0, 1, 1, 1, 1, 1, 0,\n",
       "       0, 0, 0, 0, 0, 1, 0, 0, 0, 0, 1, 0, 0, 0, 0, 0, 0, 0, 1, 1, 0, 1,\n",
       "       0, 1, 0, 0, 0, 1, 1, 1, 0, 0, 0, 0, 0, 0, 0, 0, 1, 0, 1, 0, 0, 0,\n",
       "       1, 0, 0, 1, 0, 0, 0, 0, 0, 0, 0, 0, 0, 1, 0, 1, 0, 1, 0, 1, 1, 0,\n",
       "       0, 0, 1, 0, 1, 0, 0, 1, 0, 1, 1, 0, 1, 0, 0, 1, 1, 0, 0, 1, 0, 0,\n",
       "       1, 1, 0, 0, 0, 0, 0, 0, 1, 1, 0, 1, 0, 0, 0, 0, 0, 1, 1, 0, 0, 1,\n",
       "       0, 1, 0, 0, 1, 0, 1, 0, 0, 0, 0, 0, 1, 1, 1, 1, 1, 0, 1, 0, 0, 0])"
      ]
     },
     "execution_count": 55,
     "metadata": {},
     "output_type": "execute_result"
    }
   ],
   "source": [
    "y_pred = svc.predict(test_data_sc)\n",
    "y_pred"
   ]
  },
  {
   "cell_type": "code",
   "execution_count": 56,
   "id": "97d4ccf6",
   "metadata": {
    "execution": {
     "iopub.execute_input": "2023-02-22T14:32:02.744099Z",
     "iopub.status.busy": "2023-02-22T14:32:02.743411Z",
     "iopub.status.idle": "2023-02-22T14:32:02.751046Z",
     "shell.execute_reply": "2023-02-22T14:32:02.750076Z"
    },
    "papermill": {
     "duration": 0.03635,
     "end_time": "2023-02-22T14:32:02.753078",
     "exception": false,
     "start_time": "2023-02-22T14:32:02.716728",
     "status": "completed"
    },
    "tags": []
   },
   "outputs": [
    {
     "data": {
      "text/plain": [
       "array([ 892,  893,  894,  895,  896,  897,  898,  899,  900,  901,  902,\n",
       "        903,  904,  905,  906,  907,  908,  909,  910,  911,  912,  913,\n",
       "        914,  915,  916,  917,  918,  919,  920,  921,  922,  923,  924,\n",
       "        925,  926,  927,  928,  929,  930,  931,  932,  933,  934,  935,\n",
       "        936,  937,  938,  939,  940,  941,  942,  943,  944,  945,  946,\n",
       "        947,  948,  949,  950,  951,  952,  953,  954,  955,  956,  957,\n",
       "        958,  959,  960,  961,  962,  963,  964,  965,  966,  967,  968,\n",
       "        969,  970,  971,  972,  973,  974,  975,  976,  977,  978,  979,\n",
       "        980,  981,  982,  983,  984,  985,  986,  987,  988,  989,  990,\n",
       "        991,  992,  993,  994,  995,  996,  997,  998,  999, 1000, 1001,\n",
       "       1002, 1003, 1004, 1005, 1006, 1007, 1008, 1009, 1010, 1011, 1012,\n",
       "       1013, 1014, 1015, 1016, 1017, 1018, 1019, 1020, 1021, 1022, 1023,\n",
       "       1024, 1025, 1026, 1027, 1028, 1029, 1030, 1031, 1032, 1033, 1034,\n",
       "       1035, 1036, 1037, 1038, 1039, 1040, 1041, 1042, 1043, 1044, 1045,\n",
       "       1046, 1047, 1048, 1049, 1050, 1051, 1052, 1053, 1054, 1055, 1056,\n",
       "       1057, 1058, 1059, 1060, 1061, 1062, 1063, 1064, 1065, 1066, 1067,\n",
       "       1068, 1069, 1070, 1071, 1072, 1073, 1074, 1075, 1076, 1077, 1078,\n",
       "       1079, 1080, 1081, 1082, 1083, 1084, 1085, 1086, 1087, 1088, 1089,\n",
       "       1090, 1091, 1092, 1093, 1094, 1095, 1096, 1097, 1098, 1099, 1100,\n",
       "       1101, 1102, 1103, 1104, 1105, 1106, 1107, 1108, 1109, 1110, 1111,\n",
       "       1112, 1113, 1114, 1115, 1116, 1117, 1118, 1119, 1120, 1121, 1122,\n",
       "       1123, 1124, 1125, 1126, 1127, 1128, 1129, 1130, 1131, 1132, 1133,\n",
       "       1134, 1135, 1136, 1137, 1138, 1139, 1140, 1141, 1142, 1143, 1144,\n",
       "       1145, 1146, 1147, 1148, 1149, 1150, 1151, 1152, 1153, 1154, 1155,\n",
       "       1156, 1157, 1158, 1159, 1160, 1161, 1162, 1163, 1164, 1165, 1166,\n",
       "       1167, 1168, 1169, 1170, 1171, 1172, 1173, 1174, 1175, 1176, 1177,\n",
       "       1178, 1179, 1180, 1181, 1182, 1183, 1184, 1185, 1186, 1187, 1188,\n",
       "       1189, 1190, 1191, 1192, 1193, 1194, 1195, 1196, 1197, 1198, 1199,\n",
       "       1200, 1201, 1202, 1203, 1204, 1205, 1206, 1207, 1208, 1209, 1210,\n",
       "       1211, 1212, 1213, 1214, 1215, 1216, 1217, 1218, 1219, 1220, 1221,\n",
       "       1222, 1223, 1224, 1225, 1226, 1227, 1228, 1229, 1230, 1231, 1232,\n",
       "       1233, 1234, 1235, 1236, 1237, 1238, 1239, 1240, 1241, 1242, 1243,\n",
       "       1244, 1245, 1246, 1247, 1248, 1249, 1250, 1251, 1252, 1253, 1254,\n",
       "       1255, 1256, 1257, 1258, 1259, 1260, 1261, 1262, 1263, 1264, 1265,\n",
       "       1266, 1267, 1268, 1269, 1270, 1271, 1272, 1273, 1274, 1275, 1276,\n",
       "       1277, 1278, 1279, 1280, 1281, 1282, 1283, 1284, 1285, 1286, 1287,\n",
       "       1288, 1289, 1290, 1291, 1292, 1293, 1294, 1295, 1296, 1297, 1298,\n",
       "       1299, 1300, 1301, 1302, 1303, 1304, 1305, 1306, 1307, 1308, 1309])"
      ]
     },
     "execution_count": 56,
     "metadata": {},
     "output_type": "execute_result"
    }
   ],
   "source": [
    "test_data['PassengerId'].to_numpy()"
   ]
  },
  {
   "cell_type": "code",
   "execution_count": 57,
   "id": "bcc32277",
   "metadata": {
    "execution": {
     "iopub.execute_input": "2023-02-22T14:32:02.809522Z",
     "iopub.status.busy": "2023-02-22T14:32:02.808326Z",
     "iopub.status.idle": "2023-02-22T14:32:02.814742Z",
     "shell.execute_reply": "2023-02-22T14:32:02.813957Z"
    },
    "papermill": {
     "duration": 0.038863,
     "end_time": "2023-02-22T14:32:02.816956",
     "exception": false,
     "start_time": "2023-02-22T14:32:02.778093",
     "status": "completed"
    },
    "tags": []
   },
   "outputs": [],
   "source": [
    "df_final = pd.DataFrame({\"PassengerId\":test_data[\"PassengerId\"].to_numpy(),\"Survived\":y_pred})"
   ]
  },
  {
   "cell_type": "code",
   "execution_count": 58,
   "id": "4a0caf73",
   "metadata": {
    "execution": {
     "iopub.execute_input": "2023-02-22T14:32:02.868886Z",
     "iopub.status.busy": "2023-02-22T14:32:02.868227Z",
     "iopub.status.idle": "2023-02-22T14:32:02.879810Z",
     "shell.execute_reply": "2023-02-22T14:32:02.878362Z"
    },
    "papermill": {
     "duration": 0.040353,
     "end_time": "2023-02-22T14:32:02.882289",
     "exception": false,
     "start_time": "2023-02-22T14:32:02.841936",
     "status": "completed"
    },
    "tags": []
   },
   "outputs": [
    {
     "data": {
      "text/html": [
       "<div>\n",
       "<style scoped>\n",
       "    .dataframe tbody tr th:only-of-type {\n",
       "        vertical-align: middle;\n",
       "    }\n",
       "\n",
       "    .dataframe tbody tr th {\n",
       "        vertical-align: top;\n",
       "    }\n",
       "\n",
       "    .dataframe thead th {\n",
       "        text-align: right;\n",
       "    }\n",
       "</style>\n",
       "<table border=\"1\" class=\"dataframe\">\n",
       "  <thead>\n",
       "    <tr style=\"text-align: right;\">\n",
       "      <th></th>\n",
       "      <th>PassengerId</th>\n",
       "      <th>Survived</th>\n",
       "    </tr>\n",
       "  </thead>\n",
       "  <tbody>\n",
       "    <tr>\n",
       "      <th>0</th>\n",
       "      <td>892</td>\n",
       "      <td>0</td>\n",
       "    </tr>\n",
       "    <tr>\n",
       "      <th>1</th>\n",
       "      <td>893</td>\n",
       "      <td>1</td>\n",
       "    </tr>\n",
       "    <tr>\n",
       "      <th>2</th>\n",
       "      <td>894</td>\n",
       "      <td>0</td>\n",
       "    </tr>\n",
       "    <tr>\n",
       "      <th>3</th>\n",
       "      <td>895</td>\n",
       "      <td>0</td>\n",
       "    </tr>\n",
       "    <tr>\n",
       "      <th>4</th>\n",
       "      <td>896</td>\n",
       "      <td>1</td>\n",
       "    </tr>\n",
       "    <tr>\n",
       "      <th>...</th>\n",
       "      <td>...</td>\n",
       "      <td>...</td>\n",
       "    </tr>\n",
       "    <tr>\n",
       "      <th>413</th>\n",
       "      <td>1305</td>\n",
       "      <td>0</td>\n",
       "    </tr>\n",
       "    <tr>\n",
       "      <th>414</th>\n",
       "      <td>1306</td>\n",
       "      <td>1</td>\n",
       "    </tr>\n",
       "    <tr>\n",
       "      <th>415</th>\n",
       "      <td>1307</td>\n",
       "      <td>0</td>\n",
       "    </tr>\n",
       "    <tr>\n",
       "      <th>416</th>\n",
       "      <td>1308</td>\n",
       "      <td>0</td>\n",
       "    </tr>\n",
       "    <tr>\n",
       "      <th>417</th>\n",
       "      <td>1309</td>\n",
       "      <td>0</td>\n",
       "    </tr>\n",
       "  </tbody>\n",
       "</table>\n",
       "<p>418 rows × 2 columns</p>\n",
       "</div>"
      ],
      "text/plain": [
       "     PassengerId  Survived\n",
       "0            892         0\n",
       "1            893         1\n",
       "2            894         0\n",
       "3            895         0\n",
       "4            896         1\n",
       "..           ...       ...\n",
       "413         1305         0\n",
       "414         1306         1\n",
       "415         1307         0\n",
       "416         1308         0\n",
       "417         1309         0\n",
       "\n",
       "[418 rows x 2 columns]"
      ]
     },
     "execution_count": 58,
     "metadata": {},
     "output_type": "execute_result"
    }
   ],
   "source": [
    "df_final"
   ]
  },
  {
   "cell_type": "markdown",
   "id": "77d31ac1",
   "metadata": {
    "papermill": {
     "duration": 0.026561,
     "end_time": "2023-02-22T14:32:02.934591",
     "exception": false,
     "start_time": "2023-02-22T14:32:02.908030",
     "status": "completed"
    },
    "tags": []
   },
   "source": [
    "### A little Cheat -> (Not applied here !)\n",
    "\n",
    "* First choose the best fit model \n",
    "* The run the below code with that model\n",
    "* In my case it is SVC yours may be differ"
   ]
  },
  {
   "cell_type": "code",
   "execution_count": 59,
   "id": "9e3a8b80",
   "metadata": {
    "execution": {
     "iopub.execute_input": "2023-02-22T14:32:02.987950Z",
     "iopub.status.busy": "2023-02-22T14:32:02.987276Z",
     "iopub.status.idle": "2023-02-22T14:32:02.996073Z",
     "shell.execute_reply": "2023-02-22T14:32:02.995229Z"
    },
    "papermill": {
     "duration": 0.03755,
     "end_time": "2023-02-22T14:32:02.998187",
     "exception": false,
     "start_time": "2023-02-22T14:32:02.960637",
     "status": "completed"
    },
    "tags": []
   },
   "outputs": [
    {
     "data": {
      "text/plain": [
       "(891, 891)"
      ]
     },
     "execution_count": 59,
     "metadata": {},
     "output_type": "execute_result"
    }
   ],
   "source": [
    "len(train_data_X),len(train_data_Y.drop(columns=['PassengerId']).to_numpy().ravel())"
   ]
  },
  {
   "cell_type": "code",
   "execution_count": 60,
   "id": "6ca970de",
   "metadata": {
    "execution": {
     "iopub.execute_input": "2023-02-22T14:32:03.050946Z",
     "iopub.status.busy": "2023-02-22T14:32:03.049873Z",
     "iopub.status.idle": "2023-02-22T14:32:23.055491Z",
     "shell.execute_reply": "2023-02-22T14:32:23.054578Z"
    },
    "papermill": {
     "duration": 20.034878,
     "end_time": "2023-02-22T14:32:23.058293",
     "exception": false,
     "start_time": "2023-02-22T14:32:03.023415",
     "status": "completed"
    },
    "tags": []
   },
   "outputs": [],
   "source": [
    "from sklearn.model_selection import train_test_split\n",
    "\n",
    "max_acc = 0\n",
    "max_acc_idx = 0\n",
    "for i in range(1000):\n",
    "    X_train,X_test,Y_train,Y_test = train_test_split(train_data_X,train_data_Y.drop(columns='PassengerId').to_numpy().ravel(),test_size = 0.2, random_state = i)\n",
    "    svc.fit(X_train,Y_train)\n",
    "    Y_pred = svc.predict(X_test)\n",
    "    acc_ = accuracy_score(Y_test,Y_pred)\n",
    "    if acc_ > max_acc:\n",
    "        max_acc = acc_\n",
    "        max_acc_idx = i"
   ]
  },
  {
   "cell_type": "code",
   "execution_count": 61,
   "id": "76ba089b",
   "metadata": {
    "execution": {
     "iopub.execute_input": "2023-02-22T14:32:23.112550Z",
     "iopub.status.busy": "2023-02-22T14:32:23.111896Z",
     "iopub.status.idle": "2023-02-22T14:32:23.117349Z",
     "shell.execute_reply": "2023-02-22T14:32:23.116397Z"
    },
    "papermill": {
     "duration": 0.035033,
     "end_time": "2023-02-22T14:32:23.119489",
     "exception": false,
     "start_time": "2023-02-22T14:32:23.084456",
     "status": "completed"
    },
    "tags": []
   },
   "outputs": [
    {
     "data": {
      "text/plain": [
       "0.9106145251396648"
      ]
     },
     "execution_count": 61,
     "metadata": {},
     "output_type": "execute_result"
    }
   ],
   "source": [
    "max_acc"
   ]
  },
  {
   "cell_type": "code",
   "execution_count": 62,
   "id": "bd49e204",
   "metadata": {
    "execution": {
     "iopub.execute_input": "2023-02-22T14:32:23.172358Z",
     "iopub.status.busy": "2023-02-22T14:32:23.171971Z",
     "iopub.status.idle": "2023-02-22T14:32:23.177924Z",
     "shell.execute_reply": "2023-02-22T14:32:23.176960Z"
    },
    "papermill": {
     "duration": 0.035122,
     "end_time": "2023-02-22T14:32:23.180168",
     "exception": false,
     "start_time": "2023-02-22T14:32:23.145046",
     "status": "completed"
    },
    "tags": []
   },
   "outputs": [
    {
     "data": {
      "text/plain": [
       "555"
      ]
     },
     "execution_count": 62,
     "metadata": {},
     "output_type": "execute_result"
    }
   ],
   "source": [
    "max_acc_idx"
   ]
  },
  {
   "cell_type": "code",
   "execution_count": 63,
   "id": "fce099df",
   "metadata": {
    "execution": {
     "iopub.execute_input": "2023-02-22T14:32:23.233333Z",
     "iopub.status.busy": "2023-02-22T14:32:23.232935Z",
     "iopub.status.idle": "2023-02-22T14:32:23.241794Z",
     "shell.execute_reply": "2023-02-22T14:32:23.241003Z"
    },
    "papermill": {
     "duration": 0.038597,
     "end_time": "2023-02-22T14:32:23.244313",
     "exception": false,
     "start_time": "2023-02-22T14:32:23.205716",
     "status": "completed"
    },
    "tags": []
   },
   "outputs": [],
   "source": [
    "df_final.to_csv('/kaggle/working/submission.csv',index=False)\n",
    "df_final.to_csv('submission.csv',index=False)"
   ]
  },
  {
   "cell_type": "code",
   "execution_count": null,
   "id": "76353d10",
   "metadata": {
    "papermill": {
     "duration": 0.02495,
     "end_time": "2023-02-22T14:32:23.294805",
     "exception": false,
     "start_time": "2023-02-22T14:32:23.269855",
     "status": "completed"
    },
    "tags": []
   },
   "outputs": [],
   "source": []
  }
 ],
 "metadata": {
  "kernelspec": {
   "display_name": "Python 3",
   "language": "python",
   "name": "python3"
  },
  "language_info": {
   "codemirror_mode": {
    "name": "ipython",
    "version": 3
   },
   "file_extension": ".py",
   "mimetype": "text/x-python",
   "name": "python",
   "nbconvert_exporter": "python",
   "pygments_lexer": "ipython3",
   "version": "3.7.12"
  },
  "papermill": {
   "default_parameters": {},
   "duration": 60.596225,
   "end_time": "2023-02-22T14:32:24.342946",
   "environment_variables": {},
   "exception": null,
   "input_path": "__notebook__.ipynb",
   "output_path": "__notebook__.ipynb",
   "parameters": {},
   "start_time": "2023-02-22T14:31:23.746721",
   "version": "2.3.4"
  }
 },
 "nbformat": 4,
 "nbformat_minor": 5
}
